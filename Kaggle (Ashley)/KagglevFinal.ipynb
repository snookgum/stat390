{
  "cells": [
    {
      "cell_type": "code",
      "execution_count": null,
      "id": "0bc1a5fd",
      "metadata": {
        "id": "0bc1a5fd"
      },
      "outputs": [],
      "source": [
        "import pandas as pd\n",
        "import numpy as np\n",
        "import seaborn as sns\n",
        "import matplotlib.pyplot as plt\n",
        "from sklearn.metrics import mean_squared_error\n",
        "from sklearn.model_selection import cross_val_score,train_test_split\n",
        "from sklearn.model_selection import KFold\n",
        "from sklearn.preprocessing import StandardScaler\n",
        "from sklearn.tree import DecisionTreeRegressor,DecisionTreeClassifier\n",
        "from sklearn.model_selection import GridSearchCV, ParameterGrid, StratifiedKFold, train_test_split\n",
        "from sklearn.linear_model import LinearRegression,LogisticRegression, LassoCV, RidgeCV, ElasticNetCV\n",
        "from sklearn.neighbors import KNeighborsRegressor\n",
        "from sklearn.model_selection import GridSearchCV, ParameterGrid, StratifiedKFold, RandomizedSearchCV\n",
        "import itertools as it\n",
        "import time as time\n",
        "from catboost import CatBoostRegressor\n",
        "import xgboost as xgb\n",
        "from sklearn.ensemble import StackingRegressor, VotingRegressor, RandomForestRegressor, AdaBoostRegressor\n",
        "from sklearn.linear_model import Ridge, RidgeCV, Lasso, LassoCV, ElasticNetCV\n",
        "from pyearth import Earth\n",
        "from lightgbm import LGBMRegressor\n"
      ]
    },
    {
      "cell_type": "code",
      "execution_count": null,
      "id": "7728f0b6",
      "metadata": {
        "id": "7728f0b6"
      },
      "outputs": [],
      "source": [
        "train = pd.read_csv('train.csv')\n",
        "test = pd.read_csv('test.csv')"
      ]
    },
    {
      "cell_type": "code",
      "execution_count": null,
      "id": "86e68bd7",
      "metadata": {
        "id": "86e68bd7"
      },
      "outputs": [],
      "source": [
        "from sklearn.impute import KNNImputer\n",
        "\n",
        "imputer = KNNImputer(n_neighbors=5)\n",
        "\n",
        "# fit and transform the data\n",
        "test_imputed = pd.DataFrame(imputer.fit_transform(test), columns=test.columns)\n",
        "train_imputed = pd.DataFrame(imputer.fit_transform(train), columns=train.columns)\n",
        "\n",
        "corr_matrix = train_imputed.corr().abs()\n",
        "\n",
        "corr_y = train_imputed.corrwith(train_imputed['y'])\n",
        "train_clean = train_imputed.drop(corr_y[corr_y.isna()].index.tolist(), axis = 1)\n",
        "test_clean = test_imputed.drop(corr_y[corr_y.isna()].index.tolist(), axis = 1)"
      ]
    },
    {
      "cell_type": "code",
      "execution_count": null,
      "id": "adee02f3",
      "metadata": {
        "id": "adee02f3"
      },
      "outputs": [],
      "source": [
        "X = train_clean.drop(['id','y'], axis = 1)\n",
        "y = train_clean.y\n",
        "X_test = test_clean.drop('id', axis = 1)"
      ]
    },
    {
      "cell_type": "code",
      "execution_count": null,
      "id": "25f571db",
      "metadata": {
        "id": "25f571db"
      },
      "outputs": [],
      "source": [
        "scaler = StandardScaler().fit(X)\n",
        "X_scaled = scaler.transform(X)\n",
        "X_test_scaled = scaler.transform(X_test)"
      ]
    },
    {
      "cell_type": "code",
      "source": [
        "catboost = CatBoostRegressor(subsample=0.5,reg_lambda=0,num_leaves=31,n_estimators=1000,max_depth=6,learning_rate=0.05)\n",
        "catboost.fit(X_scaled, np.log(y))"
      ],
      "metadata": {
        "id": "Ayv-3KHtdTHc"
      },
      "id": "Ayv-3KHtdTHc",
      "execution_count": null,
      "outputs": []
    },
    {
      "cell_type": "markdown",
      "source": [
        "### Feature Selection: CatBoost"
      ],
      "metadata": {
        "id": "EbajMHrO_NsC"
      },
      "id": "EbajMHrO_NsC"
    },
    {
      "cell_type": "code",
      "source": [
        "predictor = pd.Series(X.columns, name = 'predictor')\n",
        "rel_importance = pd.Series(catboost.feature_importances_, name = 'importance')\n",
        "importance = pd.concat([predictor, rel_importance], axis = 1).sort_values(by = 'importance', ascending = False)"
      ],
      "metadata": {
        "id": "4Ki227b6Yzrl"
      },
      "id": "4Ki227b6Yzrl",
      "execution_count": null,
      "outputs": []
    },
    {
      "cell_type": "code",
      "source": [
        "catboost_features = importance['predictor'].loc[importance['importance'] > 0].tolist()"
      ],
      "metadata": {
        "id": "iStp9LPXY6z2"
      },
      "id": "iStp9LPXY6z2",
      "execution_count": null,
      "outputs": []
    },
    {
      "cell_type": "code",
      "source": [
        "X_catboost = X[catboost_features]\n",
        "test_catboost = test_clean[X_catboost.columns]"
      ],
      "metadata": {
        "id": "KB9twjuhZaNF"
      },
      "id": "KB9twjuhZaNF",
      "execution_count": null,
      "outputs": []
    },
    {
      "cell_type": "code",
      "execution_count": null,
      "id": "9344b952",
      "metadata": {
        "id": "9344b952"
      },
      "outputs": [],
      "source": [
        "X_train, X_test, y_train, y_test = train_test_split(X_catboost, y, test_size = 0.2, random_state = 1)"
      ]
    },
    {
      "cell_type": "code",
      "source": [
        "start_time = time.time()\n",
        "param_grid = {'max_depth': [4,6,8],\n",
        "              'num_leaves': [20, 31, 40],\n",
        "              'learning_rate': [0.01, 0.05, 0.1],\n",
        "              'reg_lambda':[0, 10, 100],\n",
        "              'n_estimators':[100, 500, 1000],\n",
        "              'subsample': [0.5, 0.75, 1.0]}\n",
        "\n",
        "cv = KFold(n_splits=5,shuffle=True,random_state=1)\n",
        "optimal_params = RandomizedSearchCV(estimator=CatBoostRegressor(random_state=1, verbose=False),                                                       \n",
        "                             param_distributions = param_grid, n_iter = 200,\n",
        "                             verbose = 1,random_state = 1,\n",
        "                             n_jobs=-1,\n",
        "                             cv = cv)\n",
        "optimal_params.fit(X_catboost,y)\n",
        "print(\"Optimal parameter values =\", optimal_params.best_params_)\n",
        "print(\"Optimal cross validation R-squared = \",optimal_params.best_score_)\n",
        "print(\"Time taken = \", round((time.time()-start_time)/60), \" minutes\")"
      ],
      "metadata": {
        "id": "4KLZd1xylVAO"
      },
      "id": "4KLZd1xylVAO",
      "execution_count": null,
      "outputs": []
    },
    {
      "cell_type": "code",
      "source": [
        "catboost_final = CatBoostRegressor(subsample=0.5, reg_lambda=0, num_leaves=31, n_estimators=1000,\n",
        "                                   max_depth=6, learning_rate=0.05).fit(X_catboost, np.log(y))\n"
      ],
      "metadata": {
        "id": "hb6Um4p8v2ak"
      },
      "id": "hb6Um4p8v2ak",
      "execution_count": null,
      "outputs": []
    },
    {
      "cell_type": "markdown",
      "source": [
        "### Feature Selection: MARS"
      ],
      "metadata": {
        "id": "Lnqwm1hJ_R89"
      },
      "id": "Lnqwm1hJ_R89"
    },
    {
      "cell_type": "code",
      "execution_count": null,
      "id": "aa345679",
      "metadata": {
        "colab": {
          "base_uri": "https://localhost:8080/",
          "height": 75
        },
        "id": "aa345679",
        "outputId": "133c4146-7554-4023-c46a-725a940240df"
      },
      "outputs": [
        {
          "output_type": "execute_result",
          "data": {
            "text/plain": [
              "Earth(feature_importance_type='rss', max_degree=1, max_terms=500)"
            ],
            "text/html": [
              "<style>#sk-container-id-1 {color: black;background-color: white;}#sk-container-id-1 pre{padding: 0;}#sk-container-id-1 div.sk-toggleable {background-color: white;}#sk-container-id-1 label.sk-toggleable__label {cursor: pointer;display: block;width: 100%;margin-bottom: 0;padding: 0.3em;box-sizing: border-box;text-align: center;}#sk-container-id-1 label.sk-toggleable__label-arrow:before {content: \"▸\";float: left;margin-right: 0.25em;color: #696969;}#sk-container-id-1 label.sk-toggleable__label-arrow:hover:before {color: black;}#sk-container-id-1 div.sk-estimator:hover label.sk-toggleable__label-arrow:before {color: black;}#sk-container-id-1 div.sk-toggleable__content {max-height: 0;max-width: 0;overflow: hidden;text-align: left;background-color: #f0f8ff;}#sk-container-id-1 div.sk-toggleable__content pre {margin: 0.2em;color: black;border-radius: 0.25em;background-color: #f0f8ff;}#sk-container-id-1 input.sk-toggleable__control:checked~div.sk-toggleable__content {max-height: 200px;max-width: 100%;overflow: auto;}#sk-container-id-1 input.sk-toggleable__control:checked~label.sk-toggleable__label-arrow:before {content: \"▾\";}#sk-container-id-1 div.sk-estimator input.sk-toggleable__control:checked~label.sk-toggleable__label {background-color: #d4ebff;}#sk-container-id-1 div.sk-label input.sk-toggleable__control:checked~label.sk-toggleable__label {background-color: #d4ebff;}#sk-container-id-1 input.sk-hidden--visually {border: 0;clip: rect(1px 1px 1px 1px);clip: rect(1px, 1px, 1px, 1px);height: 1px;margin: -1px;overflow: hidden;padding: 0;position: absolute;width: 1px;}#sk-container-id-1 div.sk-estimator {font-family: monospace;background-color: #f0f8ff;border: 1px dotted black;border-radius: 0.25em;box-sizing: border-box;margin-bottom: 0.5em;}#sk-container-id-1 div.sk-estimator:hover {background-color: #d4ebff;}#sk-container-id-1 div.sk-parallel-item::after {content: \"\";width: 100%;border-bottom: 1px solid gray;flex-grow: 1;}#sk-container-id-1 div.sk-label:hover label.sk-toggleable__label {background-color: #d4ebff;}#sk-container-id-1 div.sk-serial::before {content: \"\";position: absolute;border-left: 1px solid gray;box-sizing: border-box;top: 0;bottom: 0;left: 50%;z-index: 0;}#sk-container-id-1 div.sk-serial {display: flex;flex-direction: column;align-items: center;background-color: white;padding-right: 0.2em;padding-left: 0.2em;position: relative;}#sk-container-id-1 div.sk-item {position: relative;z-index: 1;}#sk-container-id-1 div.sk-parallel {display: flex;align-items: stretch;justify-content: center;background-color: white;position: relative;}#sk-container-id-1 div.sk-item::before, #sk-container-id-1 div.sk-parallel-item::before {content: \"\";position: absolute;border-left: 1px solid gray;box-sizing: border-box;top: 0;bottom: 0;left: 50%;z-index: -1;}#sk-container-id-1 div.sk-parallel-item {display: flex;flex-direction: column;z-index: 1;position: relative;background-color: white;}#sk-container-id-1 div.sk-parallel-item:first-child::after {align-self: flex-end;width: 50%;}#sk-container-id-1 div.sk-parallel-item:last-child::after {align-self: flex-start;width: 50%;}#sk-container-id-1 div.sk-parallel-item:only-child::after {width: 0;}#sk-container-id-1 div.sk-dashed-wrapped {border: 1px dashed gray;margin: 0 0.4em 0.5em 0.4em;box-sizing: border-box;padding-bottom: 0.4em;background-color: white;}#sk-container-id-1 div.sk-label label {font-family: monospace;font-weight: bold;display: inline-block;line-height: 1.2em;}#sk-container-id-1 div.sk-label-container {text-align: center;}#sk-container-id-1 div.sk-container {/* jupyter's `normalize.less` sets `[hidden] { display: none; }` but bootstrap.min.css set `[hidden] { display: none !important; }` so we also need the `!important` here to be able to override the default hidden behavior on the sphinx rendered scikit-learn.org. See: https://github.com/scikit-learn/scikit-learn/issues/21755 */display: inline-block !important;position: relative;}#sk-container-id-1 div.sk-text-repr-fallback {display: none;}</style><div id=\"sk-container-id-1\" class=\"sk-top-container\"><div class=\"sk-text-repr-fallback\"><pre>Earth(feature_importance_type=&#x27;rss&#x27;, max_degree=1, max_terms=500)</pre><b>In a Jupyter environment, please rerun this cell to show the HTML representation or trust the notebook. <br />On GitHub, the HTML representation is unable to render, please try loading this page with nbviewer.org.</b></div><div class=\"sk-container\" hidden><div class=\"sk-item\"><div class=\"sk-estimator sk-toggleable\"><input class=\"sk-toggleable__control sk-hidden--visually\" id=\"sk-estimator-id-1\" type=\"checkbox\" checked><label for=\"sk-estimator-id-1\" class=\"sk-toggleable__label sk-toggleable__label-arrow\">Earth</label><div class=\"sk-toggleable__content\"><pre>Earth(feature_importance_type=&#x27;rss&#x27;, max_degree=1, max_terms=500)</pre></div></div></div></div></div>"
            ]
          },
          "metadata": {},
          "execution_count": 12
        }
      ],
      "source": [
        "mars = Earth(max_terms = 500, max_degree = 1, feature_importance_type = 'rss')\n",
        "mars.fit(X_catboost, np.log(y))"
      ]
    },
    {
      "cell_type": "code",
      "source": [
        "predictor = pd.Series(X.columns, name = 'predictor')\n",
        "rel_importance = pd.Series(mars.feature_importances_, name = 'importance')\n",
        "importance = pd.concat([predictor, rel_importance], axis = 1).sort_values(by = 'importance', ascending = False)"
      ],
      "metadata": {
        "id": "2Vuq08IBdvOS"
      },
      "id": "2Vuq08IBdvOS",
      "execution_count": null,
      "outputs": []
    },
    {
      "cell_type": "code",
      "source": [
        "mars_pred = importance['predictor'].loc[importance['importance'] > 0].tolist()"
      ],
      "metadata": {
        "id": "ivAt571WeIJd"
      },
      "id": "ivAt571WeIJd",
      "execution_count": null,
      "outputs": []
    },
    {
      "cell_type": "code",
      "source": [
        "X_mars = X[mars_pred]\n",
        "test_mars = test_clean[X_mars.columns]"
      ],
      "metadata": {
        "id": "BgJs_rHzfQF6"
      },
      "id": "BgJs_rHzfQF6",
      "execution_count": null,
      "outputs": []
    },
    {
      "cell_type": "code",
      "source": [
        "mars_final = Earth(max_terms = 500, max_degree = 1)\n",
        "mars_final.fit(X_mars, np.log(y))"
      ],
      "metadata": {
        "colab": {
          "base_uri": "https://localhost:8080/",
          "height": 75
        },
        "id": "YDhBUTV_Et_v",
        "outputId": "a7b0010b-52d8-41dc-dd49-0683d6d289bd"
      },
      "id": "YDhBUTV_Et_v",
      "execution_count": null,
      "outputs": [
        {
          "output_type": "execute_result",
          "data": {
            "text/plain": [
              "Earth(max_degree=1, max_terms=500)"
            ],
            "text/html": [
              "<style>#sk-container-id-2 {color: black;background-color: white;}#sk-container-id-2 pre{padding: 0;}#sk-container-id-2 div.sk-toggleable {background-color: white;}#sk-container-id-2 label.sk-toggleable__label {cursor: pointer;display: block;width: 100%;margin-bottom: 0;padding: 0.3em;box-sizing: border-box;text-align: center;}#sk-container-id-2 label.sk-toggleable__label-arrow:before {content: \"▸\";float: left;margin-right: 0.25em;color: #696969;}#sk-container-id-2 label.sk-toggleable__label-arrow:hover:before {color: black;}#sk-container-id-2 div.sk-estimator:hover label.sk-toggleable__label-arrow:before {color: black;}#sk-container-id-2 div.sk-toggleable__content {max-height: 0;max-width: 0;overflow: hidden;text-align: left;background-color: #f0f8ff;}#sk-container-id-2 div.sk-toggleable__content pre {margin: 0.2em;color: black;border-radius: 0.25em;background-color: #f0f8ff;}#sk-container-id-2 input.sk-toggleable__control:checked~div.sk-toggleable__content {max-height: 200px;max-width: 100%;overflow: auto;}#sk-container-id-2 input.sk-toggleable__control:checked~label.sk-toggleable__label-arrow:before {content: \"▾\";}#sk-container-id-2 div.sk-estimator input.sk-toggleable__control:checked~label.sk-toggleable__label {background-color: #d4ebff;}#sk-container-id-2 div.sk-label input.sk-toggleable__control:checked~label.sk-toggleable__label {background-color: #d4ebff;}#sk-container-id-2 input.sk-hidden--visually {border: 0;clip: rect(1px 1px 1px 1px);clip: rect(1px, 1px, 1px, 1px);height: 1px;margin: -1px;overflow: hidden;padding: 0;position: absolute;width: 1px;}#sk-container-id-2 div.sk-estimator {font-family: monospace;background-color: #f0f8ff;border: 1px dotted black;border-radius: 0.25em;box-sizing: border-box;margin-bottom: 0.5em;}#sk-container-id-2 div.sk-estimator:hover {background-color: #d4ebff;}#sk-container-id-2 div.sk-parallel-item::after {content: \"\";width: 100%;border-bottom: 1px solid gray;flex-grow: 1;}#sk-container-id-2 div.sk-label:hover label.sk-toggleable__label {background-color: #d4ebff;}#sk-container-id-2 div.sk-serial::before {content: \"\";position: absolute;border-left: 1px solid gray;box-sizing: border-box;top: 0;bottom: 0;left: 50%;z-index: 0;}#sk-container-id-2 div.sk-serial {display: flex;flex-direction: column;align-items: center;background-color: white;padding-right: 0.2em;padding-left: 0.2em;position: relative;}#sk-container-id-2 div.sk-item {position: relative;z-index: 1;}#sk-container-id-2 div.sk-parallel {display: flex;align-items: stretch;justify-content: center;background-color: white;position: relative;}#sk-container-id-2 div.sk-item::before, #sk-container-id-2 div.sk-parallel-item::before {content: \"\";position: absolute;border-left: 1px solid gray;box-sizing: border-box;top: 0;bottom: 0;left: 50%;z-index: -1;}#sk-container-id-2 div.sk-parallel-item {display: flex;flex-direction: column;z-index: 1;position: relative;background-color: white;}#sk-container-id-2 div.sk-parallel-item:first-child::after {align-self: flex-end;width: 50%;}#sk-container-id-2 div.sk-parallel-item:last-child::after {align-self: flex-start;width: 50%;}#sk-container-id-2 div.sk-parallel-item:only-child::after {width: 0;}#sk-container-id-2 div.sk-dashed-wrapped {border: 1px dashed gray;margin: 0 0.4em 0.5em 0.4em;box-sizing: border-box;padding-bottom: 0.4em;background-color: white;}#sk-container-id-2 div.sk-label label {font-family: monospace;font-weight: bold;display: inline-block;line-height: 1.2em;}#sk-container-id-2 div.sk-label-container {text-align: center;}#sk-container-id-2 div.sk-container {/* jupyter's `normalize.less` sets `[hidden] { display: none; }` but bootstrap.min.css set `[hidden] { display: none !important; }` so we also need the `!important` here to be able to override the default hidden behavior on the sphinx rendered scikit-learn.org. See: https://github.com/scikit-learn/scikit-learn/issues/21755 */display: inline-block !important;position: relative;}#sk-container-id-2 div.sk-text-repr-fallback {display: none;}</style><div id=\"sk-container-id-2\" class=\"sk-top-container\"><div class=\"sk-text-repr-fallback\"><pre>Earth(max_degree=1, max_terms=500)</pre><b>In a Jupyter environment, please rerun this cell to show the HTML representation or trust the notebook. <br />On GitHub, the HTML representation is unable to render, please try loading this page with nbviewer.org.</b></div><div class=\"sk-container\" hidden><div class=\"sk-item\"><div class=\"sk-estimator sk-toggleable\"><input class=\"sk-toggleable__control sk-hidden--visually\" id=\"sk-estimator-id-2\" type=\"checkbox\" checked><label for=\"sk-estimator-id-2\" class=\"sk-toggleable__label sk-toggleable__label-arrow\">Earth</label><div class=\"sk-toggleable__content\"><pre>Earth(max_degree=1, max_terms=500)</pre></div></div></div></div></div>"
            ]
          },
          "metadata": {},
          "execution_count": 16
        }
      ]
    },
    {
      "cell_type": "code",
      "source": [
        "X_train1, X_test1, y_train1, y_test1 = train_test_split(X_mars, y, test_size = 0.2, random_state = 1)"
      ],
      "metadata": {
        "id": "J0KQVafn5GTn"
      },
      "id": "J0KQVafn5GTn",
      "execution_count": null,
      "outputs": []
    },
    {
      "cell_type": "code",
      "source": [
        "intercept = np.mean(y_test1 - np.exp(mars_final.predict(X_test1)))\n",
        "intercept"
      ],
      "metadata": {
        "colab": {
          "base_uri": "https://localhost:8080/"
        },
        "id": "lB8KhLf_F0K8",
        "outputId": "3bc5dba3-7c43-4d92-9346-e22a8969ab77"
      },
      "id": "lB8KhLf_F0K8",
      "execution_count": null,
      "outputs": [
        {
          "output_type": "execute_result",
          "data": {
            "text/plain": [
              "3.1413378601503497"
            ]
          },
          "metadata": {},
          "execution_count": 145
        }
      ]
    },
    {
      "cell_type": "markdown",
      "source": [
        "### Feature Selection: LightGBM"
      ],
      "metadata": {
        "id": "JEBkSovjGPmq"
      },
      "id": "JEBkSovjGPmq"
    },
    {
      "cell_type": "code",
      "source": [
        "#K-fold cross validation to find optimal parameters for LightGBM regressor\n",
        "start_time = time.time()\n",
        "param_grid = {'max_depth': [4,6,8],\n",
        "              'num_leaves': [20, 31, 40],\n",
        "              'learning_rate': [0.01, 0.05, 0.1],\n",
        "              'reg_lambda':[0, 10, 100],\n",
        "              'n_estimators':[100, 500, 1000],\n",
        "              'reg_alpha': [0, 10, 100],\n",
        "              'subsample': [0.5, 0.75, 1.0],\n",
        "              'colsample_bytree': [0.5, 0.75, 1.0]}\n",
        "\n",
        "cv = KFold(n_splits=5,shuffle=True,random_state=1)\n",
        "optimal_params = RandomizedSearchCV(estimator=LGBMRegressor(random_state=1),                                                       \n",
        "                             param_distributions = param_grid, n_iter = 200,\n",
        "                             verbose = 1,\n",
        "                             n_jobs=-1,\n",
        "                             cv = cv)\n",
        "optimal_params.fit(X_mars,np.log(y))\n",
        "print(\"Optimal parameter values =\", optimal_params.best_params_)\n",
        "print(\"Optimal cross validation R-squared = \",optimal_params.best_score_)\n",
        "print(\"Time taken = \", round((time.time()-start_time)/60), \" minutes\")"
      ],
      "metadata": {
        "colab": {
          "base_uri": "https://localhost:8080/"
        },
        "id": "ufZmnxJf1SAs",
        "outputId": "00c3e6d1-bfc5-47f3-bf7a-6c3304c85a6a"
      },
      "id": "ufZmnxJf1SAs",
      "execution_count": null,
      "outputs": [
        {
          "output_type": "stream",
          "name": "stdout",
          "text": [
            "Fitting 5 folds for each of 200 candidates, totalling 1000 fits\n",
            "Optimal parameter values = {'subsample': 0.75, 'reg_lambda': 0, 'reg_alpha': 0, 'num_leaves': 31, 'n_estimators': 1000, 'max_depth': 4, 'learning_rate': 0.01, 'colsample_bytree': 0.5}\n",
            "Optimal cross validation R-squared =  0.2765937476512421\n",
            "Time taken =  1  minutes\n"
          ]
        }
      ]
    },
    {
      "cell_type": "code",
      "source": [
        "lgbm_mars = LGBMRegressor(subsample=0.75, reg_lambda=0, reg_alpha=0, num_leaves=31, n_estimators=1000,\n",
        "                     max_depth=4, learning_rate=0.01, colsample_bytree=0.5).fit(X_mars,np.log(y))"
      ],
      "metadata": {
        "id": "OhSRzIxdLb0O"
      },
      "id": "OhSRzIxdLb0O",
      "execution_count": null,
      "outputs": []
    },
    {
      "cell_type": "code",
      "source": [
        "en = StackingRegressor(estimators = [('catboost_final', catboost_final),('lgbm', lgbm_mars),('mars_final', mars_final)],\n",
        "                       final_estimator=ElasticNetCV(),                                          \n",
        "                       cv = KFold(n_splits = 5, shuffle = True, random_state=1))\n",
        "en.fit(X_scaled,np.log(y))"
      ],
      "metadata": {
        "id": "gFENqnN6as7g",
        "colab": {
          "base_uri": "https://localhost:8080/",
          "height": 164
        },
        "outputId": "beb673f3-be2e-4e3d-c5cf-eaf376830ac0"
      },
      "id": "gFENqnN6as7g",
      "execution_count": null,
      "outputs": [
        {
          "output_type": "execute_result",
          "data": {
            "text/plain": [
              "StackingRegressor(cv=KFold(n_splits=5, random_state=1, shuffle=True),\n",
              "                  estimators=[('catboost_final',\n",
              "                               <catboost.core.CatBoostRegressor object at 0x7f7a7200f520>),\n",
              "                              ('lgbm',\n",
              "                               LGBMRegressor(colsample_bytree=0.5,\n",
              "                                             learning_rate=0.01, max_depth=4,\n",
              "                                             n_estimators=1000, reg_alpha=0,\n",
              "                                             reg_lambda=0, subsample=0.75)),\n",
              "                              ('mars_final',\n",
              "                               Earth(max_degree=1, max_terms=500))],\n",
              "                  final_estimator=ElasticNetCV())"
            ],
            "text/html": [
              "<style>#sk-container-id-53 {color: black;background-color: white;}#sk-container-id-53 pre{padding: 0;}#sk-container-id-53 div.sk-toggleable {background-color: white;}#sk-container-id-53 label.sk-toggleable__label {cursor: pointer;display: block;width: 100%;margin-bottom: 0;padding: 0.3em;box-sizing: border-box;text-align: center;}#sk-container-id-53 label.sk-toggleable__label-arrow:before {content: \"▸\";float: left;margin-right: 0.25em;color: #696969;}#sk-container-id-53 label.sk-toggleable__label-arrow:hover:before {color: black;}#sk-container-id-53 div.sk-estimator:hover label.sk-toggleable__label-arrow:before {color: black;}#sk-container-id-53 div.sk-toggleable__content {max-height: 0;max-width: 0;overflow: hidden;text-align: left;background-color: #f0f8ff;}#sk-container-id-53 div.sk-toggleable__content pre {margin: 0.2em;color: black;border-radius: 0.25em;background-color: #f0f8ff;}#sk-container-id-53 input.sk-toggleable__control:checked~div.sk-toggleable__content {max-height: 200px;max-width: 100%;overflow: auto;}#sk-container-id-53 input.sk-toggleable__control:checked~label.sk-toggleable__label-arrow:before {content: \"▾\";}#sk-container-id-53 div.sk-estimator input.sk-toggleable__control:checked~label.sk-toggleable__label {background-color: #d4ebff;}#sk-container-id-53 div.sk-label input.sk-toggleable__control:checked~label.sk-toggleable__label {background-color: #d4ebff;}#sk-container-id-53 input.sk-hidden--visually {border: 0;clip: rect(1px 1px 1px 1px);clip: rect(1px, 1px, 1px, 1px);height: 1px;margin: -1px;overflow: hidden;padding: 0;position: absolute;width: 1px;}#sk-container-id-53 div.sk-estimator {font-family: monospace;background-color: #f0f8ff;border: 1px dotted black;border-radius: 0.25em;box-sizing: border-box;margin-bottom: 0.5em;}#sk-container-id-53 div.sk-estimator:hover {background-color: #d4ebff;}#sk-container-id-53 div.sk-parallel-item::after {content: \"\";width: 100%;border-bottom: 1px solid gray;flex-grow: 1;}#sk-container-id-53 div.sk-label:hover label.sk-toggleable__label {background-color: #d4ebff;}#sk-container-id-53 div.sk-serial::before {content: \"\";position: absolute;border-left: 1px solid gray;box-sizing: border-box;top: 0;bottom: 0;left: 50%;z-index: 0;}#sk-container-id-53 div.sk-serial {display: flex;flex-direction: column;align-items: center;background-color: white;padding-right: 0.2em;padding-left: 0.2em;position: relative;}#sk-container-id-53 div.sk-item {position: relative;z-index: 1;}#sk-container-id-53 div.sk-parallel {display: flex;align-items: stretch;justify-content: center;background-color: white;position: relative;}#sk-container-id-53 div.sk-item::before, #sk-container-id-53 div.sk-parallel-item::before {content: \"\";position: absolute;border-left: 1px solid gray;box-sizing: border-box;top: 0;bottom: 0;left: 50%;z-index: -1;}#sk-container-id-53 div.sk-parallel-item {display: flex;flex-direction: column;z-index: 1;position: relative;background-color: white;}#sk-container-id-53 div.sk-parallel-item:first-child::after {align-self: flex-end;width: 50%;}#sk-container-id-53 div.sk-parallel-item:last-child::after {align-self: flex-start;width: 50%;}#sk-container-id-53 div.sk-parallel-item:only-child::after {width: 0;}#sk-container-id-53 div.sk-dashed-wrapped {border: 1px dashed gray;margin: 0 0.4em 0.5em 0.4em;box-sizing: border-box;padding-bottom: 0.4em;background-color: white;}#sk-container-id-53 div.sk-label label {font-family: monospace;font-weight: bold;display: inline-block;line-height: 1.2em;}#sk-container-id-53 div.sk-label-container {text-align: center;}#sk-container-id-53 div.sk-container {/* jupyter's `normalize.less` sets `[hidden] { display: none; }` but bootstrap.min.css set `[hidden] { display: none !important; }` so we also need the `!important` here to be able to override the default hidden behavior on the sphinx rendered scikit-learn.org. See: https://github.com/scikit-learn/scikit-learn/issues/21755 */display: inline-block !important;position: relative;}#sk-container-id-53 div.sk-text-repr-fallback {display: none;}</style><div id=\"sk-container-id-53\" class=\"sk-top-container\"><div class=\"sk-text-repr-fallback\"><pre>StackingRegressor(cv=KFold(n_splits=5, random_state=1, shuffle=True),\n",
              "                  estimators=[(&#x27;catboost_final&#x27;,\n",
              "                               &lt;catboost.core.CatBoostRegressor object at 0x7f7a7200f520&gt;),\n",
              "                              (&#x27;lgbm&#x27;,\n",
              "                               LGBMRegressor(colsample_bytree=0.5,\n",
              "                                             learning_rate=0.01, max_depth=4,\n",
              "                                             n_estimators=1000, reg_alpha=0,\n",
              "                                             reg_lambda=0, subsample=0.75)),\n",
              "                              (&#x27;mars_final&#x27;,\n",
              "                               Earth(max_degree=1, max_terms=500))],\n",
              "                  final_estimator=ElasticNetCV())</pre><b>In a Jupyter environment, please rerun this cell to show the HTML representation or trust the notebook. <br />On GitHub, the HTML representation is unable to render, please try loading this page with nbviewer.org.</b></div><div class=\"sk-container\" hidden><div class=\"sk-item sk-dashed-wrapped\"><div class=\"sk-label-container\"><div class=\"sk-label sk-toggleable\"><input class=\"sk-toggleable__control sk-hidden--visually\" id=\"sk-estimator-id-117\" type=\"checkbox\" ><label for=\"sk-estimator-id-117\" class=\"sk-toggleable__label sk-toggleable__label-arrow\">StackingRegressor</label><div class=\"sk-toggleable__content\"><pre>StackingRegressor(cv=KFold(n_splits=5, random_state=1, shuffle=True),\n",
              "                  estimators=[(&#x27;catboost_final&#x27;,\n",
              "                               &lt;catboost.core.CatBoostRegressor object at 0x7f7a7200f520&gt;),\n",
              "                              (&#x27;lgbm&#x27;,\n",
              "                               LGBMRegressor(colsample_bytree=0.5,\n",
              "                                             learning_rate=0.01, max_depth=4,\n",
              "                                             n_estimators=1000, reg_alpha=0,\n",
              "                                             reg_lambda=0, subsample=0.75)),\n",
              "                              (&#x27;mars_final&#x27;,\n",
              "                               Earth(max_degree=1, max_terms=500))],\n",
              "                  final_estimator=ElasticNetCV())</pre></div></div></div><div class=\"sk-serial\"><div class=\"sk-item\"><div class=\"sk-parallel\"><div class=\"sk-parallel-item\"><div class=\"sk-item\"><div class=\"sk-label-container\"><div class=\"sk-label sk-toggleable\"><label>catboost_final</label></div></div><div class=\"sk-serial\"><div class=\"sk-item\"><div class=\"sk-estimator sk-toggleable\"><input class=\"sk-toggleable__control sk-hidden--visually\" id=\"sk-estimator-id-118\" type=\"checkbox\" ><label for=\"sk-estimator-id-118\" class=\"sk-toggleable__label sk-toggleable__label-arrow\">CatBoostRegressor</label><div class=\"sk-toggleable__content\"><pre>&lt;catboost.core.CatBoostRegressor object at 0x7f7a7200f520&gt;</pre></div></div></div></div></div></div><div class=\"sk-parallel-item\"><div class=\"sk-item\"><div class=\"sk-label-container\"><div class=\"sk-label sk-toggleable\"><label>lgbm</label></div></div><div class=\"sk-serial\"><div class=\"sk-item\"><div class=\"sk-estimator sk-toggleable\"><input class=\"sk-toggleable__control sk-hidden--visually\" id=\"sk-estimator-id-119\" type=\"checkbox\" ><label for=\"sk-estimator-id-119\" class=\"sk-toggleable__label sk-toggleable__label-arrow\">LGBMRegressor</label><div class=\"sk-toggleable__content\"><pre>LGBMRegressor(colsample_bytree=0.5, learning_rate=0.01, max_depth=4,\n",
              "              n_estimators=1000, reg_alpha=0, reg_lambda=0, subsample=0.75)</pre></div></div></div></div></div></div><div class=\"sk-parallel-item\"><div class=\"sk-item\"><div class=\"sk-label-container\"><div class=\"sk-label sk-toggleable\"><label>mars_final</label></div></div><div class=\"sk-serial\"><div class=\"sk-item\"><div class=\"sk-estimator sk-toggleable\"><input class=\"sk-toggleable__control sk-hidden--visually\" id=\"sk-estimator-id-120\" type=\"checkbox\" ><label for=\"sk-estimator-id-120\" class=\"sk-toggleable__label sk-toggleable__label-arrow\">Earth</label><div class=\"sk-toggleable__content\"><pre>Earth(max_degree=1, max_terms=500)</pre></div></div></div></div></div></div></div></div><div class=\"sk-item\"><div class=\"sk-parallel\"><div class=\"sk-parallel-item\"><div class=\"sk-item\"><div class=\"sk-label-container\"><div class=\"sk-label sk-toggleable\"><label>final_estimator</label></div></div><div class=\"sk-serial\"><div class=\"sk-item\"><div class=\"sk-estimator sk-toggleable\"><input class=\"sk-toggleable__control sk-hidden--visually\" id=\"sk-estimator-id-121\" type=\"checkbox\" ><label for=\"sk-estimator-id-121\" class=\"sk-toggleable__label sk-toggleable__label-arrow\">ElasticNetCV</label><div class=\"sk-toggleable__content\"><pre>ElasticNetCV()</pre></div></div></div></div></div></div></div></div></div></div></div></div>"
            ]
          },
          "metadata": {},
          "execution_count": 572
        }
      ]
    },
    {
      "cell_type": "code",
      "source": [
        "res = np.log(y) - en.predict(X_scaled)"
      ],
      "metadata": {
        "id": "A2aZgxU2lylb"
      },
      "id": "A2aZgxU2lylb",
      "execution_count": null,
      "outputs": []
    },
    {
      "cell_type": "code",
      "source": [
        "en_res = StackingRegressor(estimators = [('catboost_final', catboost_final),('lgbm', lgbm_mars),('mars_final', mars_final)],\n",
        "                       final_estimator=ElasticNetCV(),                                          \n",
        "                       cv = KFold(n_splits = 5, shuffle = True, random_state=1))\n",
        "en_res.fit(X_scaled,res)"
      ],
      "metadata": {
        "id": "Z9s1WuOgmeMe"
      },
      "id": "Z9s1WuOgmeMe",
      "execution_count": null,
      "outputs": []
    },
    {
      "cell_type": "code",
      "source": [
        "pred = pd.DataFrame()\n",
        "pred['id'] = test['id']\n",
        "pred['y'] = np.exp(en.predict(X_test_scaled)+en_res.predict(X_test_scaled))*1.27\n",
        "pred = pred.set_index(['id'])\n",
        "pred.to_csv('Witarsa_Ashley.csv')"
      ],
      "metadata": {
        "id": "8__8Z4IKa4Ys"
      },
      "id": "8__8Z4IKa4Ys",
      "execution_count": null,
      "outputs": []
    }
  ],
  "metadata": {
    "kernelspec": {
      "display_name": "Python 3 (ipykernel)",
      "language": "python",
      "name": "python3"
    },
    "language_info": {
      "codemirror_mode": {
        "name": "ipython",
        "version": 3
      },
      "file_extension": ".py",
      "mimetype": "text/x-python",
      "name": "python",
      "nbconvert_exporter": "python",
      "pygments_lexer": "ipython3",
      "version": "3.8.8"
    },
    "colab": {
      "provenance": []
    }
  },
  "nbformat": 4,
  "nbformat_minor": 5
}