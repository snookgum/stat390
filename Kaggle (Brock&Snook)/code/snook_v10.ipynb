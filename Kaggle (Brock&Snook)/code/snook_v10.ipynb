{
 "cells": [
  {
   "cell_type": "code",
   "execution_count": 1,
   "id": "821f75fe",
   "metadata": {},
   "outputs": [],
   "source": [
    "import pandas as pd\n",
    "import numpy as np\n",
    "import matplotlib.pyplot as plt\n",
    "import seaborn as sns\n",
    "\n",
    "import itertools as it\n",
    "from sklearn.preprocessing import StandardScaler\n",
    "import warnings\n",
    "\n",
    "from sklearn.model_selection import KFold, cross_val_score, GridSearchCV\n",
    "from sklearn.metrics import mean_squared_error\n",
    "from sklearn.impute import KNNImputer\n",
    "\n",
    "from sklearn.linear_model import LinearRegression,LogisticRegression, LassoCV, RidgeCV, ElasticNetCV\n",
    "from sklearn.decomposition import PCA\n",
    "from sklearn.tree import DecisionTreeRegressor\n",
    "from sklearn.ensemble import VotingRegressor, StackingRegressor, GradientBoostingRegressor, BaggingRegressor, RandomForestRegressor, AdaBoostRegressor\n",
    "from sklearn.neighbors import KNeighborsRegressor\n",
    "import xgboost as xgb\n",
    "from pyearth import Earth"
   ]
  },
  {
   "cell_type": "code",
   "execution_count": 2,
   "id": "9dd95570",
   "metadata": {},
   "outputs": [
    {
     "data": {
      "text/plain": [
       "(5380, 767)"
      ]
     },
     "execution_count": 2,
     "metadata": {},
     "output_type": "execute_result"
    }
   ],
   "source": [
    "train = pd.read_csv('data/train.csv')\n",
    "train.shape"
   ]
  },
  {
   "cell_type": "code",
   "execution_count": 3,
   "id": "e1eddf46",
   "metadata": {},
   "outputs": [
    {
     "data": {
      "text/plain": [
       "(4403, 766)"
      ]
     },
     "execution_count": 3,
     "metadata": {},
     "output_type": "execute_result"
    }
   ],
   "source": [
    "test = pd.read_csv('data/test.csv')\n",
    "test.shape"
   ]
  },
  {
   "cell_type": "markdown",
   "id": "7ef3a578",
   "metadata": {},
   "source": [
    "## Missing Values"
   ]
  },
  {
   "cell_type": "code",
   "execution_count": 4,
   "id": "d7d0ad47",
   "metadata": {},
   "outputs": [
    {
     "name": "stdout",
     "output_type": "stream",
     "text": [
      "29911\n",
      "473\n",
      "2523\n"
     ]
    }
   ],
   "source": [
    "num_missing = train.isna().sum().sum()\n",
    "print(num_missing)\n",
    "\n",
    "num_cols_missing = (train.isna().any()).sum()\n",
    "print(num_cols_missing)\n",
    "\n",
    "num_rows_missing = (train.isna().any(axis=1)).sum()\n",
    "print(num_rows_missing)"
   ]
  },
  {
   "cell_type": "code",
   "execution_count": 5,
   "id": "e29259f9",
   "metadata": {},
   "outputs": [],
   "source": [
    "imputer = KNNImputer(n_neighbors = 5)"
   ]
  },
  {
   "cell_type": "code",
   "execution_count": 6,
   "id": "38198331",
   "metadata": {},
   "outputs": [],
   "source": [
    "train = pd.DataFrame(imputer.fit_transform(train), columns = train.columns)\n",
    "test = pd.DataFrame(imputer.fit_transform(test), columns = test.columns)"
   ]
  },
  {
   "cell_type": "markdown",
   "id": "d9e564dc",
   "metadata": {},
   "source": [
    "## Feature Selection"
   ]
  },
  {
   "cell_type": "code",
   "execution_count": 7,
   "id": "ebc659aa",
   "metadata": {},
   "outputs": [],
   "source": [
    "train = train.fillna(0)\n",
    "y_train = train['y']\n",
    "X_train = train.drop(['y', 'id'], axis = 1)"
   ]
  },
  {
   "cell_type": "code",
   "execution_count": 8,
   "id": "bc3243eb",
   "metadata": {},
   "outputs": [
    {
     "data": {
      "text/plain": [
       "x063   NaN\n",
       "x137   NaN\n",
       "x255   NaN\n",
       "x385   NaN\n",
       "x405   NaN\n",
       "x453   NaN\n",
       "x465   NaN\n",
       "x518   NaN\n",
       "x594   NaN\n",
       "x643   NaN\n",
       "x703   NaN\n",
       "dtype: float64"
      ]
     },
     "execution_count": 8,
     "metadata": {},
     "output_type": "execute_result"
    }
   ],
   "source": [
    "corr = abs(X_train.corrwith(y_train))\n",
    "corr[corr.isnull()==True]"
   ]
  },
  {
   "cell_type": "code",
   "execution_count": 9,
   "id": "764c7952",
   "metadata": {},
   "outputs": [],
   "source": [
    "X_train = X_train.drop(['x063', 'x137', 'x255', 'x385', 'x405', 'x453', 'x465', 'x518', 'x594', 'x643', 'x703'], axis = 1)\n",
    "X_test = test.drop(['x063', 'x137', 'x255', 'x385', 'x405', 'x453', 'x465', 'x518', 'x594', 'x643', 'x703'], axis = 1)"
   ]
  },
  {
   "cell_type": "code",
   "execution_count": 10,
   "id": "beae6af8",
   "metadata": {},
   "outputs": [
    {
     "name": "stderr",
     "output_type": "stream",
     "text": [
      "<ipython-input-10-329baf4ed854>:2: DeprecationWarning: `np.bool` is a deprecated alias for the builtin `bool`. To silence this warning, use `bool` by itself. Doing this will not modify any behavior and is safe. If you specifically wanted the numpy scalar type, use `np.bool_` here.\n",
      "Deprecated in NumPy 1.20; for more details and guidance: https://numpy.org/devdocs/release/1.20.0-notes.html#deprecations\n",
      "  upper_tri = corr_matrix.where(np.triu(np.ones(corr_matrix.shape), k=1).astype(np.bool))\n"
     ]
    }
   ],
   "source": [
    "corr_matrix = X_train.corr().abs()\n",
    "upper_tri = corr_matrix.where(np.triu(np.ones(corr_matrix.shape), k=1).astype(np.bool))\n",
    "corr_columns = [column for column in upper_tri.columns if any(upper_tri[column] > 0.7)]\n",
    "X_train = X_train.drop(corr_columns, axis=1)\n",
    "X_test = X_test.drop(corr_columns, axis=1)"
   ]
  },
  {
   "cell_type": "code",
   "execution_count": 11,
   "id": "d61c9db4",
   "metadata": {},
   "outputs": [
    {
     "data": {
      "text/plain": [
       "(5380, 151)"
      ]
     },
     "execution_count": 11,
     "metadata": {},
     "output_type": "execute_result"
    }
   ],
   "source": [
    "X_train.shape"
   ]
  },
  {
   "cell_type": "markdown",
   "id": "aaa764ef",
   "metadata": {},
   "source": [
    "## PCA"
   ]
  },
  {
   "cell_type": "code",
   "execution_count": 12,
   "id": "a7569e96",
   "metadata": {},
   "outputs": [],
   "source": [
    "scaler = StandardScaler()\n",
    "scaler.fit(X_train)\n",
    "X_train = scaler.transform(X_train)\n",
    "\n",
    "col_id = X_test['id']\n",
    "X_test = X_test.drop(['id'], axis = 1)\n",
    "X_test = scaler.transform(X_test)"
   ]
  },
  {
   "cell_type": "code",
   "execution_count": 57,
   "id": "30748cd9",
   "metadata": {},
   "outputs": [
    {
     "data": {
      "image/png": "[encoded data removed]",
      "text/plain": [
       "<Figure size 720x432 with 1 Axes>"
      ]
     },
     "metadata": {
      "needs_background": "light"
     },
     "output_type": "display_data"
    }
   ],
   "source": [
    "pca_all = PCA()\n",
    "pca_all.fit(X_train)\n",
    "\n",
    "plt.figure(figsize=(10, 6))\n",
    "plt.bar(range(1, len(pca_all.explained_variance_ratio_) + 1), pca_all.explained_variance_ratio_ * 100)\n",
    "plt.xlabel('PC')\n",
    "plt.xlim([0,20])\n",
    "plt.ylabel('% Variance Captured')\n",
    "plt.title('Variance Captured by Each PC')\n",
    "plt.show()"
   ]
  },
  {
   "cell_type": "code",
   "execution_count": 13,
   "id": "e6d4e0e0",
   "metadata": {},
   "outputs": [
    {
     "data": {
      "text/plain": [
       "(5380, 3)"
      ]
     },
     "execution_count": 13,
     "metadata": {},
     "output_type": "execute_result"
    }
   ],
   "source": [
    "pca = PCA(n_components=3)\n",
    "pca.fit(X_train)\n",
    "\n",
    "X_train = pca.transform(X_train)\n",
    "X_train.shape"
   ]
  },
  {
   "cell_type": "code",
   "execution_count": 14,
   "id": "9c5386d7",
   "metadata": {},
   "outputs": [
    {
     "data": {
      "text/plain": [
       "(4403, 3)"
      ]
     },
     "execution_count": 14,
     "metadata": {},
     "output_type": "execute_result"
    }
   ],
   "source": [
    "X_test = pca.transform(X_test)\n",
    "X_test.shape"
   ]
  },
  {
   "cell_type": "markdown",
   "id": "3b8639f9",
   "metadata": {},
   "source": [
    "## AdaBoost"
   ]
  },
  {
   "cell_type": "code",
   "execution_count": 15,
   "id": "c6439a90",
   "metadata": {},
   "outputs": [
    {
     "name": "stdout",
     "output_type": "stream",
     "text": [
      ">3 12.397 (0.334)\n",
      ">4 12.180 (0.405)\n",
      ">5 12.226 (0.450)\n",
      ">6 12.261 (0.453)\n",
      ">7 12.290 (0.395)\n",
      ">8 12.406 (0.346)\n",
      ">9 12.591 (0.612)\n",
      ">10 13.105 (0.579)\n",
      ">11 13.395 (0.283)\n",
      ">12 13.473 (0.367)\n",
      ">13 13.475 (0.368)\n",
      ">14 13.648 (0.559)\n"
     ]
    },
    {
     "data": {
      "text/plain": [
       "Text(0.5, 0, 'Number of trees')"
      ]
     },
     "execution_count": 15,
     "metadata": {},
     "output_type": "execute_result"
    },
    {
     "data": {
      "image/png": "[encoded data removed]",
      "text/plain": [
       "<Figure size 432x288 with 1 Axes>"
      ]
     },
     "metadata": {
      "needs_background": "light"
     },
     "output_type": "display_data"
    }
   ],
   "source": [
    "def get_models():\n",
    "    models = dict()\n",
    "    for n in range(3, 15):\n",
    "        models[str(n)] = AdaBoostRegressor(n_estimators=n,random_state=1)\n",
    "    return models\n",
    "\n",
    "def evaluate_model(model, X_train, y_train):\n",
    "    cv = KFold(n_splits=5, shuffle=True, random_state=1)\n",
    "    scores = np.sqrt(-cross_val_score(model, X_train, y_train, scoring='neg_mean_squared_error', cv=cv, n_jobs=-1))\n",
    "    return scores\n",
    "\n",
    "models = get_models()\n",
    "results, names = list(), list()\n",
    "for name, model in models.items():\n",
    "    scores = evaluate_model(model, X_train, y_train)\n",
    "    results.append(scores)\n",
    "    names.append(name)\n",
    "    print('>%s %.3f (%.3f)' % (name, np.mean(scores), np.std(scores)))\n",
    "    \n",
    "plt.boxplot(results, labels=names, showmeans=True)\n",
    "plt.ylabel('Cross validation error',fontsize=15)\n",
    "plt.xlabel('Number of trees',fontsize=15)"
   ]
  },
  {
   "cell_type": "code",
   "execution_count": 16,
   "id": "af35c701",
   "metadata": {},
   "outputs": [
    {
     "name": "stdout",
     "output_type": "stream",
     "text": [
      ">1 12.675 (0.863)\n",
      ">2 12.335 (0.974)\n",
      ">3 14.438 (2.856)\n",
      ">4 19.460 (2.830)\n",
      ">5 20.191 (1.403)\n",
      ">6 18.459 (0.941)\n",
      ">7 15.203 (0.563)\n",
      ">8 13.419 (0.963)\n",
      ">9 12.393 (1.259)\n",
      ">10 11.894 (1.352)\n"
     ]
    },
    {
     "data": {
      "text/plain": [
       "Text(0.5, 0, 'Depth of each tree')"
      ]
     },
     "execution_count": 16,
     "metadata": {},
     "output_type": "execute_result"
    },
    {
     "data": {
      "image/png": "[encoded data removed]",
      "text/plain": [
       "<Figure size 432x288 with 1 Axes>"
      ]
     },
     "metadata": {
      "needs_background": "light"
     },
     "output_type": "display_data"
    }
   ],
   "source": [
    "def get_models():\n",
    "    models = dict()\n",
    "    for i in range(1,11):\n",
    "        base = DecisionTreeRegressor(max_depth=i)\n",
    "        models[str(i)] = AdaBoostRegressor(base_estimator=base,n_estimators=50)\n",
    "    return models\n",
    "\n",
    "def evaluate_model(model, X, y):\n",
    "    cv = KFold(n_splits=10, shuffle=True, random_state=1)\n",
    "    scores = np.sqrt(-cross_val_score(model, X, y, scoring='neg_mean_squared_error', cv=cv, n_jobs=-1))\n",
    "    return scores\n",
    "\n",
    "models = get_models()\n",
    "results, names = list(), list()\n",
    "for name, model in models.items():\n",
    "    scores = evaluate_model(model, X_train, y_train)\n",
    "    results.append(scores)\n",
    "    names.append(name)\n",
    "    print('>%s %.3f (%.3f)' % (name, np.mean(scores), np.std(scores)))\n",
    "    \n",
    "plt.boxplot(results, labels=names, showmeans=True)\n",
    "plt.ylabel('Cross validation error',fontsize=15)\n",
    "plt.xlabel('Depth of each tree',fontsize=15)"
   ]
  },
  {
   "cell_type": "code",
   "execution_count": 17,
   "id": "1fbd7e0a",
   "metadata": {},
   "outputs": [
    {
     "name": "stdout",
     "output_type": "stream",
     "text": [
      "Best: -148.509763 using {'base_estimator': DecisionTreeRegressor(max_depth=3), 'n_estimators': 4}\n"
     ]
    }
   ],
   "source": [
    "model = AdaBoostRegressor(random_state=1)\n",
    "grid = dict()\n",
    "grid['n_estimators'] = [4]\n",
    "grid['base_estimator'] = [DecisionTreeRegressor(max_depth=2), DecisionTreeRegressor(max_depth=3)]\n",
    "\n",
    "cv = KFold(n_splits=5, shuffle=True, random_state=1)\n",
    "grid_search = GridSearchCV(estimator=model, param_grid=grid, n_jobs=-1, cv=cv, scoring='neg_mean_squared_error')\n",
    "grid_result = grid_search.fit(X_train, y_train)\n",
    "print(\"Best: %f using %s\" % (grid_result.best_score_, grid_result.best_params_))\n",
    "means = grid_result.cv_results_['mean_test_score']\n",
    "stds = grid_result.cv_results_['std_test_score']\n",
    "params = grid_result.cv_results_['params']"
   ]
  },
  {
   "cell_type": "code",
   "execution_count": 18,
   "id": "30955cbb",
   "metadata": {},
   "outputs": [],
   "source": [
    "model_ADA = AdaBoostRegressor(base_estimator=DecisionTreeRegressor(max_depth=3), n_estimators=4,\n",
    "                              random_state=1).fit(X_train, y_train)"
   ]
  },
  {
   "cell_type": "markdown",
   "id": "6cfb9bf7",
   "metadata": {},
   "source": [
    "## RF"
   ]
  },
  {
   "cell_type": "code",
   "execution_count": 19,
   "id": "ca635547",
   "metadata": {},
   "outputs": [],
   "source": [
    "warnings.filterwarnings(\"ignore\")"
   ]
  },
  {
   "cell_type": "code",
   "execution_count": 20,
   "id": "cdbf5543",
   "metadata": {},
   "outputs": [
    {
     "data": {
      "text/plain": [
       "<matplotlib.legend.Legend at 0x1e731264910>"
      ]
     },
     "execution_count": 20,
     "metadata": {},
     "output_type": "execute_result"
    },
    {
     "data": {
      "image/png": "[encoded data removed]",
      "text/plain": [
       "<Figure size 640x480 with 1 Axes>"
      ]
     },
     "metadata": {
      "needs_background": "light"
     },
     "output_type": "display_data"
    }
   ],
   "source": [
    "oob_rsquared={};test_rsquared={};oob_rmse={};test_rmse = {}\n",
    "for i in np.linspace(1, 21, 20,dtype=int):\n",
    "    model = RandomForestRegressor(n_estimators=i, random_state=1,max_features=\"sqrt\",\n",
    "                        n_jobs=-1,oob_score=True).fit(X_train, y_train)\n",
    "    oob_rsquared[i]=model.oob_score_  \n",
    "    oob_rmse[i]=np.sqrt(mean_squared_error(model.oob_prediction_,y_train))\n",
    "    \n",
    "plt.rcParams.update({'font.size': 15})\n",
    "plt.figure(figsize=(8, 6), dpi=80)\n",
    "plt.plot(oob_rmse.keys(),oob_rmse.values(),label = 'Out of bag RMSE')\n",
    "plt.plot(oob_rmse.keys(),oob_rmse.values(),'o',color = 'blue')\n",
    "plt.xlabel('Number of trees')\n",
    "plt.ylabel('RMSE')\n",
    "plt.legend()"
   ]
  },
  {
   "cell_type": "code",
   "execution_count": 22,
   "id": "bf51f308",
   "metadata": {},
   "outputs": [
    {
     "data": {
      "text/plain": [
       "Text(0, 0.5, 'Classification accuracy')"
      ]
     },
     "execution_count": 22,
     "metadata": {},
     "output_type": "execute_result"
    },
    {
     "data": {
      "image/png": "[encoded data removed]",
      "text/plain": [
       "<Figure size 432x288 with 1 Axes>"
      ]
     },
     "metadata": {
      "needs_background": "light"
     },
     "output_type": "display_data"
    }
   ],
   "source": [
    "oob_score = {}\n",
    "\n",
    "i=0\n",
    "for pr in range(1, 3):\n",
    "    model = RandomForestRegressor(random_state=1, oob_score=True, verbose=False, n_estimators = 500,\n",
    "                                  max_features=pr, n_jobs=-1).fit(X_train, y_train)\n",
    "    oob_score[i] = model.oob_score_\n",
    "    i=i+1\n",
    "    \n",
    "sns.scatterplot(x = oob_score.keys(), y = oob_score.values())\n",
    "plt.xlabel('Max features')\n",
    "plt.ylabel('Classification accuracy')"
   ]
  },
  {
   "cell_type": "code",
   "execution_count": 23,
   "id": "7bffff9d",
   "metadata": {},
   "outputs": [
    {
     "name": "stdout",
     "output_type": "stream",
     "text": [
      "Best params =  (6, 1)\n",
      "Best score (R-squared) =  -0.330774283306402\n"
     ]
    }
   ],
   "source": [
    "params = {'n_estimators': [6],\n",
    "          'max_features': [1,2,3]}\n",
    "param_list=list(it.product(*(params[Name] for Name in params)))\n",
    "oob_score = [0]*len(param_list)\n",
    "i=0\n",
    "for pr in param_list:\n",
    "    model = RandomForestRegressor(random_state=1,oob_score=True,verbose=False,n_estimators = pr[0],\n",
    "                                 max_features=pr[1],n_jobs=-1).fit(X_train, y_train)\n",
    "    oob_score[i] = model.oob_score_\n",
    "    i=i+1\n",
    "    \n",
    "print(\"Best params = \", param_list[np.argmax(oob_score)])\n",
    "print(\"Best score (R-squared) = \", np.max(oob_score))"
   ]
  },
  {
   "cell_type": "code",
   "execution_count": 24,
   "id": "e8279c5d",
   "metadata": {},
   "outputs": [],
   "source": [
    "model_RF = RandomForestRegressor(n_estimators=6, max_features=1, random_state=1, n_jobs=-1).fit(X_train, y_train)"
   ]
  },
  {
   "cell_type": "markdown",
   "id": "20546b7b",
   "metadata": {},
   "source": [
    "## XGBoost"
   ]
  },
  {
   "cell_type": "code",
   "execution_count": 25,
   "id": "f824cb18",
   "metadata": {},
   "outputs": [
    {
     "name": "stdout",
     "output_type": "stream",
     "text": [
      ">3 11.543 (0.784)\n",
      ">4 11.364 (0.743)\n",
      ">5 11.270 (0.684)\n",
      ">6 11.244 (0.635)\n",
      ">7 11.270 (0.611)\n",
      ">8 11.268 (0.563)\n",
      ">9 11.270 (0.529)\n",
      ">10 11.318 (0.488)\n"
     ]
    },
    {
     "data": {
      "text/plain": [
       "Text(0.5, 0, 'Number of trees')"
      ]
     },
     "execution_count": 25,
     "metadata": {},
     "output_type": "execute_result"
    },
    {
     "data": {
      "image/png": "[encoded data removed]",
      "text/plain": [
       "<Figure size 432x288 with 1 Axes>"
      ]
     },
     "metadata": {
      "needs_background": "light"
     },
     "output_type": "display_data"
    }
   ],
   "source": [
    "def get_models():\n",
    "    models = dict()\n",
    "    for n in range(3, 11):\n",
    "        models[str(n)] = xgb.XGBRegressor(n_estimators=n,random_state=1)\n",
    "    return models\n",
    "\n",
    "def evaluate_model(model, X, y):\n",
    "    cv = KFold(n_splits=5, shuffle=True, random_state=1)\n",
    "    scores = np.sqrt(-cross_val_score(model, X, y, scoring='neg_mean_squared_error', cv=cv, n_jobs=-1))\n",
    "    return scores\n",
    "\n",
    "models = get_models()\n",
    "results, names = list(), list()\n",
    "for name, model in models.items():\n",
    "    scores = evaluate_model(model, X_train, y_train)\n",
    "    results.append(scores)\n",
    "    names.append(name)\n",
    "    print('>%s %.3f (%.3f)' % (name, np.mean(scores), np.std(scores)))\n",
    "\n",
    "plt.boxplot(results, labels=names, showmeans=True)\n",
    "plt.ylabel('Cross validation error',fontsize=15)\n",
    "plt.xlabel('Number of trees',fontsize=15)"
   ]
  },
  {
   "cell_type": "code",
   "execution_count": 26,
   "id": "b21defa8",
   "metadata": {},
   "outputs": [
    {
     "name": "stdout",
     "output_type": "stream",
     "text": [
      ">1 10.877 (1.349)\n",
      ">2 11.115 (1.385)\n",
      ">3 11.341 (1.378)\n",
      ">4 11.695 (1.477)\n",
      ">5 11.859 (1.325)\n",
      ">6 11.899 (1.401)\n"
     ]
    },
    {
     "data": {
      "text/plain": [
       "Text(0.5, 0, 'Depth of each tree')"
      ]
     },
     "execution_count": 26,
     "metadata": {},
     "output_type": "execute_result"
    },
    {
     "data": {
      "image/png": "[encoded data removed]",
      "text/plain": [
       "<Figure size 432x288 with 1 Axes>"
      ]
     },
     "metadata": {
      "needs_background": "light"
     },
     "output_type": "display_data"
    }
   ],
   "source": [
    "def get_models():\n",
    "    models = dict()\n",
    "    for i in range(1, 7):\n",
    "        models[str(i)] = xgb.XGBRegressor(random_state=1,max_depth=i)\n",
    "    return models\n",
    "\n",
    "def evaluate_model(model, X, y):\n",
    "    cv = KFold(n_splits=10, shuffle=True, random_state=1)\n",
    "    scores = np.sqrt(-cross_val_score(model, X, y, scoring='neg_mean_squared_error', cv=cv, n_jobs=-1))\n",
    "    return scores\n",
    "\n",
    "models = get_models()\n",
    "results, names = list(), list()\n",
    "for name, model in models.items():\n",
    "    scores = evaluate_model(model, X_train, y_train)\n",
    "    results.append(scores)\n",
    "    names.append(name)\n",
    "    print('>%s %.3f (%.3f)' % (name, np.mean(scores), np.std(scores)))\n",
    "    \n",
    "plt.boxplot(results, labels=names, showmeans=True)\n",
    "plt.ylabel('Cross validation error',fontsize=15)\n",
    "plt.xlabel('Depth of each tree',fontsize=15)"
   ]
  },
  {
   "cell_type": "code",
   "execution_count": 27,
   "id": "bd09e030",
   "metadata": {},
   "outputs": [
    {
     "name": "stdout",
     "output_type": "stream",
     "text": [
      ">0.0100 11.5 (1.7)\n",
      ">0.0150 11.3 (1.6)\n",
      ">0.0200 11.2 (1.6)\n",
      ">0.0250 11.2 (1.5)\n",
      ">0.0300 11.2 (1.5)\n"
     ]
    },
    {
     "data": {
      "text/plain": [
       "Text(0.5, 0, 'Learning rate')"
      ]
     },
     "execution_count": 27,
     "metadata": {},
     "output_type": "execute_result"
    },
    {
     "data": {
      "image/png": "[encoded data removed]",
      "text/plain": [
       "<Figure size 504x504 with 1 Axes>"
      ]
     },
     "metadata": {
      "needs_background": "light"
     },
     "output_type": "display_data"
    }
   ],
   "source": [
    "def get_models():\n",
    "    models = dict()\n",
    "    for i in [0.010, 0.015, 0.020, 0.025, 0.030]:\n",
    "        key = '%.4f' % i\n",
    "        models[key] = xgb.XGBRegressor(learning_rate=i,random_state=1)\n",
    "    return models\n",
    "\n",
    "def evaluate_model(model, X, y):\n",
    "    cv = KFold(n_splits=10, shuffle=True, random_state=1)\n",
    "    scores = np.sqrt(-cross_val_score(model, X, y, scoring='neg_mean_squared_error', cv=cv, n_jobs=-1))\n",
    "    return scores\n",
    "\n",
    "models = get_models()\n",
    "results, names = list(), list()\n",
    "for name, model in models.items():\n",
    "    scores = evaluate_model(model, X_train, y_train)\n",
    "    results.append(scores)\n",
    "    names.append(name)\n",
    "    print('>%s %.1f (%.1f)' % (name, np.mean(scores), np.std(scores)))\n",
    "    \n",
    "plt.figure(figsize=(7, 7))\n",
    "plt.boxplot(results, labels=names, showmeans=True)\n",
    "plt.ylabel('Cross validation error',fontsize=15)\n",
    "plt.xlabel('Learning rate',fontsize=15)"
   ]
  },
  {
   "cell_type": "code",
   "execution_count": 28,
   "id": "601bf52b",
   "metadata": {},
   "outputs": [
    {
     "name": "stdout",
     "output_type": "stream",
     "text": [
      ">0.0100 12.2 (1.4)\n",
      ">0.0500 12.2 (1.3)\n",
      ">0.1000 12.3 (1.4)\n",
      ">0.2500 12.1 (1.4)\n",
      ">0.5000 12.0 (1.4)\n",
      ">1.0000 11.9 (1.4)\n"
     ]
    },
    {
     "data": {
      "text/plain": [
       "Text(0.5, 0, 'reg_lambda')"
      ]
     },
     "execution_count": 28,
     "metadata": {},
     "output_type": "execute_result"
    },
    {
     "data": {
      "image/png": "[encoded data removed]",
      "text/plain": [
       "<Figure size 504x504 with 1 Axes>"
      ]
     },
     "metadata": {
      "needs_background": "light"
     },
     "output_type": "display_data"
    }
   ],
   "source": [
    "def get_models():\n",
    "    models = dict()\n",
    "    for i in [0.01, 0.05, 0.1, 0.25, 0.5, 1]:\n",
    "        key = '%.4f' % i\n",
    "        models[key] = xgb.XGBRegressor(reg_lambda=i,random_state=1)\n",
    "    return models\n",
    "\n",
    "def evaluate_model(model, X, y):\n",
    "    cv = KFold(n_splits=10, shuffle=True, random_state=1)\n",
    "    scores = np.sqrt(-cross_val_score(model, X, y, scoring='neg_mean_squared_error', cv=cv, n_jobs=-1))\n",
    "    return scores\n",
    "\n",
    "models = get_models()\n",
    "results, names = list(), list()\n",
    "for name, model in models.items():\n",
    "    scores = evaluate_model(model, X_train, y_train)\n",
    "    results.append(scores)\n",
    "    names.append(name)\n",
    "    print('>%s %.1f (%.1f)' % (name, np.mean(scores), np.std(scores)))\n",
    "\n",
    "plt.figure(figsize=(7, 7))\n",
    "plt.boxplot(results, labels=names, showmeans=True)\n",
    "plt.ylabel('Cross validation error',fontsize=15)\n",
    "plt.xlabel('reg_lambda',fontsize=15)"
   ]
  },
  {
   "cell_type": "code",
   "execution_count": 29,
   "id": "8a053695",
   "metadata": {},
   "outputs": [
    {
     "name": "stdout",
     "output_type": "stream",
     "text": [
      "Fitting 5 folds for each of 54 candidates, totalling 270 fits\n",
      "Optimal parameter values = {'learning_rate': 0.15, 'max_depth': 2, 'n_estimators': 5, 'reg_lambda': 0.2}\n",
      "Optimal cross validation R-squared =  0.040702634097943655\n"
     ]
    }
   ],
   "source": [
    "param_grid = {'n_estimators':[4, 5],\n",
    "              'max_depth': [2, 3, 4],\n",
    "              'learning_rate': [0.100, 0.125, 0.150],\n",
    "              'reg_lambda':[0.15, 0.20, 0.25]}\n",
    "\n",
    "cv = KFold(n_splits=5,shuffle=True,random_state=1)\n",
    "optimal_params = GridSearchCV(estimator=xgb.XGBRegressor(random_state=1),                                                       \n",
    "                             param_grid = param_grid,                             \n",
    "                             verbose = 1,\n",
    "                             n_jobs=-1,\n",
    "                             cv = cv)\n",
    "optimal_params.fit(X_train , y_train)\n",
    "print(\"Optimal parameter values =\", optimal_params.best_params_)\n",
    "print(\"Optimal cross validation R-squared = \",optimal_params.best_score_)"
   ]
  },
  {
   "cell_type": "code",
   "execution_count": 30,
   "id": "8a36a153",
   "metadata": {},
   "outputs": [],
   "source": [
    "model_XG = xgb.XGBRegressor(random_state=1, max_depth=2, n_estimators=5, learning_rate = 0.15, reg_lambda=0.2).fit(X_train, y_train)"
   ]
  },
  {
   "cell_type": "markdown",
   "id": "e0ca3cfe",
   "metadata": {},
   "source": [
    "## Ensemble"
   ]
  },
  {
   "cell_type": "code",
   "execution_count": 31,
   "id": "705d926a",
   "metadata": {},
   "outputs": [
    {
     "data": {
      "text/plain": [
       "StackingRegressor(cv=KFold(n_splits=5, random_state=1, shuffle=True),\n",
       "                  estimators=[('ADA',\n",
       "                               AdaBoostRegressor(base_estimator=DecisionTreeRegressor(max_depth=3),\n",
       "                                                 n_estimators=4,\n",
       "                                                 random_state=1)),\n",
       "                              ('RF',\n",
       "                               RandomForestRegressor(max_features=1,\n",
       "                                                     n_estimators=6, n_jobs=-1,\n",
       "                                                     random_state=1)),\n",
       "                              ('XG',\n",
       "                               XGBRegressor(base_score=0.5, booster='gbtree',\n",
       "                                            callbacks=None, colsample_byl...\n",
       "                                            gpu_id=-1, grow_policy='depthwise',\n",
       "                                            importance_type=None,\n",
       "                                            interaction_constraints='',\n",
       "                                            learning_rate=0.15, max_bin=256,\n",
       "                                            max_cat_to_onehot=4,\n",
       "                                            max_delta_step=0, max_depth=2,\n",
       "                                            max_leaves=0, min_child_weight=1,\n",
       "                                            missing=nan,\n",
       "                                            monotone_constraints='()',\n",
       "                                            n_estimators=5, n_jobs=0,\n",
       "                                            num_parallel_tree=1,\n",
       "                                            predictor='auto', random_state=1,\n",
       "                                            reg_alpha=0, reg_lambda=0.2, ...))],\n",
       "                  final_estimator=LassoCV())"
      ]
     },
     "execution_count": 31,
     "metadata": {},
     "output_type": "execute_result"
    }
   ],
   "source": [
    "model_ensemble= StackingRegressor(estimators = [('ADA', model_ADA),\n",
    "                                                ('RF', model_RF),\n",
    "                                                ('XG', model_XG)],\n",
    "                      final_estimator = LassoCV(),\n",
    "                      cv = KFold(n_splits = 5, shuffle = True, random_state=1))\n",
    "model_ensemble.fit(X_train, y_train)"
   ]
  },
  {
   "cell_type": "code",
   "execution_count": 32,
   "id": "9b9bc897",
   "metadata": {},
   "outputs": [
    {
     "data": {
      "text/plain": [
       "array([0.02539829, 0.01824538, 1.66137181])"
      ]
     },
     "execution_count": 32,
     "metadata": {},
     "output_type": "execute_result"
    }
   ],
   "source": [
    "model_ensemble.final_estimator_.coef_"
   ]
  },
  {
   "cell_type": "code",
   "execution_count": 33,
   "id": "db4fe4e1",
   "metadata": {},
   "outputs": [
    {
     "data": {
      "text/html": [
       "<div>\n",
       "<style scoped>\n",
       "    .dataframe tbody tr th:only-of-type {\n",
       "        vertical-align: middle;\n",
       "    }\n",
       "\n",
       "    .dataframe tbody tr th {\n",
       "        vertical-align: top;\n",
       "    }\n",
       "\n",
       "    .dataframe thead th {\n",
       "        text-align: right;\n",
       "    }\n",
       "</style>\n",
       "<table border=\"1\" class=\"dataframe\">\n",
       "  <thead>\n",
       "    <tr style=\"text-align: right;\">\n",
       "      <th></th>\n",
       "      <th>id</th>\n",
       "      <th>y</th>\n",
       "    </tr>\n",
       "  </thead>\n",
       "  <tbody>\n",
       "    <tr>\n",
       "      <th>0</th>\n",
       "      <td>5380.0</td>\n",
       "      <td>7.480825</td>\n",
       "    </tr>\n",
       "    <tr>\n",
       "      <th>1</th>\n",
       "      <td>5381.0</td>\n",
       "      <td>9.481876</td>\n",
       "    </tr>\n",
       "    <tr>\n",
       "      <th>2</th>\n",
       "      <td>5382.0</td>\n",
       "      <td>5.884710</td>\n",
       "    </tr>\n",
       "    <tr>\n",
       "      <th>3</th>\n",
       "      <td>5383.0</td>\n",
       "      <td>5.875588</td>\n",
       "    </tr>\n",
       "    <tr>\n",
       "      <th>4</th>\n",
       "      <td>5384.0</td>\n",
       "      <td>6.255718</td>\n",
       "    </tr>\n",
       "    <tr>\n",
       "      <th>...</th>\n",
       "      <td>...</td>\n",
       "      <td>...</td>\n",
       "    </tr>\n",
       "    <tr>\n",
       "      <th>4398</th>\n",
       "      <td>9778.0</td>\n",
       "      <td>5.918160</td>\n",
       "    </tr>\n",
       "    <tr>\n",
       "      <th>4399</th>\n",
       "      <td>9779.0</td>\n",
       "      <td>5.972565</td>\n",
       "    </tr>\n",
       "    <tr>\n",
       "      <th>4400</th>\n",
       "      <td>9780.0</td>\n",
       "      <td>9.475794</td>\n",
       "    </tr>\n",
       "    <tr>\n",
       "      <th>4401</th>\n",
       "      <td>9781.0</td>\n",
       "      <td>9.709471</td>\n",
       "    </tr>\n",
       "    <tr>\n",
       "      <th>4402</th>\n",
       "      <td>9782.0</td>\n",
       "      <td>20.760294</td>\n",
       "    </tr>\n",
       "  </tbody>\n",
       "</table>\n",
       "<p>4403 rows × 2 columns</p>\n",
       "</div>"
      ],
      "text/plain": [
       "          id          y\n",
       "0     5380.0   7.480825\n",
       "1     5381.0   9.481876\n",
       "2     5382.0   5.884710\n",
       "3     5383.0   5.875588\n",
       "4     5384.0   6.255718\n",
       "...      ...        ...\n",
       "4398  9778.0   5.918160\n",
       "4399  9779.0   5.972565\n",
       "4400  9780.0   9.475794\n",
       "4401  9781.0   9.709471\n",
       "4402  9782.0  20.760294\n",
       "\n",
       "[4403 rows x 2 columns]"
      ]
     },
     "execution_count": 33,
     "metadata": {},
     "output_type": "execute_result"
    }
   ],
   "source": [
    "pred14 = model_ensemble.predict(X_test)\n",
    "\n",
    "pred_v14 = pd.DataFrame(index=range(X_test.shape[0]), columns=range(2))\n",
    "pred_v14.columns = ['id', 'y']\n",
    "pred_v14['id'] = col_id\n",
    "pred_v14['y'] = pred14\n",
    "pred_v14"
   ]
  },
  {
   "cell_type": "code",
   "execution_count": 34,
   "id": "4bd9a03f",
   "metadata": {},
   "outputs": [],
   "source": [
    "pred_v14.to_csv('pred_v14.csv', index=True)"
   ]
  },
  {
   "cell_type": "code",
   "execution_count": null,
   "id": "eefe936a",
   "metadata": {},
   "outputs": [],
   "source": []
  }
 ],
 "metadata": {
  "kernelspec": {
   "display_name": "Python 3",
   "language": "python",
   "name": "python3"
  },
  "language_info": {
   "codemirror_mode": {
    "name": "ipython",
    "version": 3
   },
   "file_extension": ".py",
   "mimetype": "text/x-python",
   "name": "python",
   "nbconvert_exporter": "python",
   "pygments_lexer": "ipython3",
   "version": "3.8.8"
  }
 },
 "nbformat": 4,
 "nbformat_minor": 5
}
