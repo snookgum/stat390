{
 "cells": [
  {
   "cell_type": "code",
   "execution_count": 1,
   "id": "71ae95c8",
   "metadata": {},
   "outputs": [],
   "source": [
    "import pandas as pd\n",
    "import numpy as np\n",
    "import matplotlib.pyplot as plt\n",
    "import seaborn as sns\n",
    "\n",
    "import itertools as it\n",
    "from sklearn.preprocessing import StandardScaler\n",
    "import warnings\n",
    "\n",
    "from sklearn.model_selection import KFold, cross_val_score, GridSearchCV\n",
    "from sklearn.metrics import mean_squared_error\n",
    "\n",
    "from sklearn.linear_model import LinearRegression,LogisticRegression, LassoCV, RidgeCV, ElasticNetCV\n",
    "from sklearn.decomposition import PCA\n",
    "from sklearn.tree import DecisionTreeRegressor\n",
    "from sklearn.ensemble import VotingRegressor, StackingRegressor, GradientBoostingRegressor, BaggingRegressor, RandomForestRegressor, AdaBoostRegressor\n",
    "from sklearn.neighbors import KNeighborsRegressor\n",
    "import xgboost as xgb\n",
    "from pyearth import Earth"
   ]
  },
  {
   "cell_type": "code",
   "execution_count": 2,
   "id": "103fd322",
   "metadata": {},
   "outputs": [],
   "source": [
    "warnings.filterwarnings(\"ignore\")"
   ]
  },
  {
   "cell_type": "code",
   "execution_count": 3,
   "id": "6fe37938",
   "metadata": {},
   "outputs": [
    {
     "data": {
      "text/html": [
       "<div>\n",
       "<style scoped>\n",
       "    .dataframe tbody tr th:only-of-type {\n",
       "        vertical-align: middle;\n",
       "    }\n",
       "\n",
       "    .dataframe tbody tr th {\n",
       "        vertical-align: top;\n",
       "    }\n",
       "\n",
       "    .dataframe thead th {\n",
       "        text-align: right;\n",
       "    }\n",
       "</style>\n",
       "<table border=\"1\" class=\"dataframe\">\n",
       "  <thead>\n",
       "    <tr style=\"text-align: right;\">\n",
       "      <th></th>\n",
       "      <th>id</th>\n",
       "      <th>x001</th>\n",
       "      <th>x002</th>\n",
       "      <th>x003</th>\n",
       "      <th>x004</th>\n",
       "      <th>x005</th>\n",
       "      <th>x006</th>\n",
       "      <th>x007</th>\n",
       "      <th>x008</th>\n",
       "      <th>x009</th>\n",
       "      <th>...</th>\n",
       "      <th>x757</th>\n",
       "      <th>x758</th>\n",
       "      <th>x759</th>\n",
       "      <th>x760</th>\n",
       "      <th>x761</th>\n",
       "      <th>x762</th>\n",
       "      <th>x763</th>\n",
       "      <th>x764</th>\n",
       "      <th>x765</th>\n",
       "      <th>y</th>\n",
       "    </tr>\n",
       "  </thead>\n",
       "  <tbody>\n",
       "    <tr>\n",
       "      <th>0</th>\n",
       "      <td>0</td>\n",
       "      <td>9.681860e+10</td>\n",
       "      <td>6991.15</td>\n",
       "      <td>7.76</td>\n",
       "      <td>0.00380</td>\n",
       "      <td>5.378811e+09</td>\n",
       "      <td>0.31</td>\n",
       "      <td>266117.20</td>\n",
       "      <td>934577.0</td>\n",
       "      <td>14539.0</td>\n",
       "      <td>...</td>\n",
       "      <td>0.0007</td>\n",
       "      <td>297281012</td>\n",
       "      <td>0.13</td>\n",
       "      <td>5.0</td>\n",
       "      <td>5</td>\n",
       "      <td>2.0</td>\n",
       "      <td>8.5127</td>\n",
       "      <td>14.28</td>\n",
       "      <td>-0.75</td>\n",
       "      <td>5</td>\n",
       "    </tr>\n",
       "    <tr>\n",
       "      <th>1</th>\n",
       "      <td>1</td>\n",
       "      <td>3.304810e+09</td>\n",
       "      <td>13914.43</td>\n",
       "      <td>5.37</td>\n",
       "      <td>0.00015</td>\n",
       "      <td>1.652405e+09</td>\n",
       "      <td>0.00</td>\n",
       "      <td>11927742.92</td>\n",
       "      <td>1798051.0</td>\n",
       "      <td>1051272.0</td>\n",
       "      <td>...</td>\n",
       "      <td>0.1136</td>\n",
       "      <td>3320000000000</td>\n",
       "      <td>0.08</td>\n",
       "      <td>661.0</td>\n",
       "      <td>0</td>\n",
       "      <td>350.0</td>\n",
       "      <td>1.5700</td>\n",
       "      <td>160.12</td>\n",
       "      <td>NaN</td>\n",
       "      <td>1</td>\n",
       "    </tr>\n",
       "    <tr>\n",
       "      <th>2</th>\n",
       "      <td>2</td>\n",
       "      <td>3.218944e+10</td>\n",
       "      <td>3991.98</td>\n",
       "      <td>5.77</td>\n",
       "      <td>0.00010</td>\n",
       "      <td>2.476111e+09</td>\n",
       "      <td>0.00</td>\n",
       "      <td>774385.01</td>\n",
       "      <td>375738.0</td>\n",
       "      <td>144143.0</td>\n",
       "      <td>...</td>\n",
       "      <td>0.0029</td>\n",
       "      <td>100474819</td>\n",
       "      <td>0.39</td>\n",
       "      <td>39.0</td>\n",
       "      <td>2</td>\n",
       "      <td>18.0</td>\n",
       "      <td>9.6800</td>\n",
       "      <td>25.06</td>\n",
       "      <td>-0.49</td>\n",
       "      <td>11</td>\n",
       "    </tr>\n",
       "    <tr>\n",
       "      <th>3</th>\n",
       "      <td>3</td>\n",
       "      <td>1.288000e+10</td>\n",
       "      <td>15937.45</td>\n",
       "      <td>5.86</td>\n",
       "      <td>0.00020</td>\n",
       "      <td>2.146667e+09</td>\n",
       "      <td>0.00</td>\n",
       "      <td>6324375.16</td>\n",
       "      <td>1932094.0</td>\n",
       "      <td>10055.0</td>\n",
       "      <td>...</td>\n",
       "      <td>0.0000</td>\n",
       "      <td>348000000000</td>\n",
       "      <td>0.25</td>\n",
       "      <td>2.0</td>\n",
       "      <td>1</td>\n",
       "      <td>0.0</td>\n",
       "      <td>4.5316</td>\n",
       "      <td>117.76</td>\n",
       "      <td>1.64</td>\n",
       "      <td>1</td>\n",
       "    </tr>\n",
       "    <tr>\n",
       "      <th>4</th>\n",
       "      <td>4</td>\n",
       "      <td>3.063412e+10</td>\n",
       "      <td>3621.00</td>\n",
       "      <td>7.52</td>\n",
       "      <td>0.00060</td>\n",
       "      <td>1.392460e+09</td>\n",
       "      <td>0.21</td>\n",
       "      <td>169860.29</td>\n",
       "      <td>474253.0</td>\n",
       "      <td>17914.0</td>\n",
       "      <td>...</td>\n",
       "      <td>0.0005</td>\n",
       "      <td>109546590</td>\n",
       "      <td>0.11</td>\n",
       "      <td>11.0</td>\n",
       "      <td>1</td>\n",
       "      <td>3.0</td>\n",
       "      <td>16.2717</td>\n",
       "      <td>5.81</td>\n",
       "      <td>-0.42</td>\n",
       "      <td>5</td>\n",
       "    </tr>\n",
       "  </tbody>\n",
       "</table>\n",
       "<p>5 rows × 767 columns</p>\n",
       "</div>"
      ],
      "text/plain": [
       "   id          x001      x002  x003     x004          x005  x006         x007  \\\n",
       "0   0  9.681860e+10   6991.15  7.76  0.00380  5.378811e+09  0.31    266117.20   \n",
       "1   1  3.304810e+09  13914.43  5.37  0.00015  1.652405e+09  0.00  11927742.92   \n",
       "2   2  3.218944e+10   3991.98  5.77  0.00010  2.476111e+09  0.00    774385.01   \n",
       "3   3  1.288000e+10  15937.45  5.86  0.00020  2.146667e+09  0.00   6324375.16   \n",
       "4   4  3.063412e+10   3621.00  7.52  0.00060  1.392460e+09  0.21    169860.29   \n",
       "\n",
       "        x008       x009  ...    x757           x758  x759   x760  x761   x762  \\\n",
       "0   934577.0    14539.0  ...  0.0007      297281012  0.13    5.0     5    2.0   \n",
       "1  1798051.0  1051272.0  ...  0.1136  3320000000000  0.08  661.0     0  350.0   \n",
       "2   375738.0   144143.0  ...  0.0029      100474819  0.39   39.0     2   18.0   \n",
       "3  1932094.0    10055.0  ...  0.0000   348000000000  0.25    2.0     1    0.0   \n",
       "4   474253.0    17914.0  ...  0.0005      109546590  0.11   11.0     1    3.0   \n",
       "\n",
       "      x763    x764  x765   y  \n",
       "0   8.5127   14.28 -0.75   5  \n",
       "1   1.5700  160.12   NaN   1  \n",
       "2   9.6800   25.06 -0.49  11  \n",
       "3   4.5316  117.76  1.64   1  \n",
       "4  16.2717    5.81 -0.42   5  \n",
       "\n",
       "[5 rows x 767 columns]"
      ]
     },
     "execution_count": 3,
     "metadata": {},
     "output_type": "execute_result"
    }
   ],
   "source": [
    "train = pd.read_csv('data/train.csv')\n",
    "train.head()"
   ]
  },
  {
   "cell_type": "code",
   "execution_count": 4,
   "id": "06bbaf45",
   "metadata": {},
   "outputs": [
    {
     "data": {
      "text/html": [
       "<div>\n",
       "<style scoped>\n",
       "    .dataframe tbody tr th:only-of-type {\n",
       "        vertical-align: middle;\n",
       "    }\n",
       "\n",
       "    .dataframe tbody tr th {\n",
       "        vertical-align: top;\n",
       "    }\n",
       "\n",
       "    .dataframe thead th {\n",
       "        text-align: right;\n",
       "    }\n",
       "</style>\n",
       "<table border=\"1\" class=\"dataframe\">\n",
       "  <thead>\n",
       "    <tr style=\"text-align: right;\">\n",
       "      <th></th>\n",
       "      <th>id</th>\n",
       "      <th>x001</th>\n",
       "      <th>x002</th>\n",
       "      <th>x003</th>\n",
       "      <th>x004</th>\n",
       "      <th>x005</th>\n",
       "      <th>x006</th>\n",
       "      <th>x007</th>\n",
       "      <th>x008</th>\n",
       "      <th>x009</th>\n",
       "      <th>...</th>\n",
       "      <th>x756</th>\n",
       "      <th>x757</th>\n",
       "      <th>x758</th>\n",
       "      <th>x759</th>\n",
       "      <th>x760</th>\n",
       "      <th>x761</th>\n",
       "      <th>x762</th>\n",
       "      <th>x763</th>\n",
       "      <th>x764</th>\n",
       "      <th>x765</th>\n",
       "    </tr>\n",
       "  </thead>\n",
       "  <tbody>\n",
       "    <tr>\n",
       "      <th>0</th>\n",
       "      <td>5380</td>\n",
       "      <td>6.507826e+10</td>\n",
       "      <td>7882.15</td>\n",
       "      <td>6.82</td>\n",
       "      <td>0.00210</td>\n",
       "      <td>1.712586e+09</td>\n",
       "      <td>0.39</td>\n",
       "      <td>583617.74</td>\n",
       "      <td>862986.0</td>\n",
       "      <td>63872.0</td>\n",
       "      <td>...</td>\n",
       "      <td>0.0380</td>\n",
       "      <td>0.0010</td>\n",
       "      <td>90204869909</td>\n",
       "      <td>0.26</td>\n",
       "      <td>8.0</td>\n",
       "      <td>5</td>\n",
       "      <td>5.0</td>\n",
       "      <td>30.1213</td>\n",
       "      <td>27.95</td>\n",
       "      <td>-0.49</td>\n",
       "    </tr>\n",
       "    <tr>\n",
       "      <th>1</th>\n",
       "      <td>5381</td>\n",
       "      <td>3.122741e+09</td>\n",
       "      <td>4682.13</td>\n",
       "      <td>8.17</td>\n",
       "      <td>0.00010</td>\n",
       "      <td>1.040914e+09</td>\n",
       "      <td>0.00</td>\n",
       "      <td>190000.65</td>\n",
       "      <td>688710.0</td>\n",
       "      <td>35407.0</td>\n",
       "      <td>...</td>\n",
       "      <td>0.1866</td>\n",
       "      <td>0.0192</td>\n",
       "      <td>37449565014</td>\n",
       "      <td>0.02</td>\n",
       "      <td>16.0</td>\n",
       "      <td>1</td>\n",
       "      <td>8.0</td>\n",
       "      <td>2.1282</td>\n",
       "      <td>10.18</td>\n",
       "      <td>0.55</td>\n",
       "    </tr>\n",
       "    <tr>\n",
       "      <th>2</th>\n",
       "      <td>5382</td>\n",
       "      <td>3.888719e+10</td>\n",
       "      <td>7495.57</td>\n",
       "      <td>7.15</td>\n",
       "      <td>0.00285</td>\n",
       "      <td>2.160400e+09</td>\n",
       "      <td>0.42</td>\n",
       "      <td>351570.67</td>\n",
       "      <td>841523.0</td>\n",
       "      <td>170240.0</td>\n",
       "      <td>...</td>\n",
       "      <td>0.0100</td>\n",
       "      <td>0.0017</td>\n",
       "      <td>10847937619</td>\n",
       "      <td>0.83</td>\n",
       "      <td>35.0</td>\n",
       "      <td>1</td>\n",
       "      <td>19.0</td>\n",
       "      <td>7.8513</td>\n",
       "      <td>21.27</td>\n",
       "      <td>19.09</td>\n",
       "    </tr>\n",
       "    <tr>\n",
       "      <th>3</th>\n",
       "      <td>5383</td>\n",
       "      <td>7.727427e+10</td>\n",
       "      <td>4003.76</td>\n",
       "      <td>6.53</td>\n",
       "      <td>0.00165</td>\n",
       "      <td>5.519591e+09</td>\n",
       "      <td>0.00</td>\n",
       "      <td>320216.05</td>\n",
       "      <td>466131.0</td>\n",
       "      <td>35.0</td>\n",
       "      <td>...</td>\n",
       "      <td>0.4636</td>\n",
       "      <td>0.0000</td>\n",
       "      <td>37200096</td>\n",
       "      <td>0.51</td>\n",
       "      <td>1.0</td>\n",
       "      <td>4</td>\n",
       "      <td>0.0</td>\n",
       "      <td>9.0511</td>\n",
       "      <td>18.38</td>\n",
       "      <td>4.11</td>\n",
       "    </tr>\n",
       "    <tr>\n",
       "      <th>4</th>\n",
       "      <td>5384</td>\n",
       "      <td>4.184868e+09</td>\n",
       "      <td>34874.72</td>\n",
       "      <td>6.39</td>\n",
       "      <td>0.00065</td>\n",
       "      <td>1.046217e+09</td>\n",
       "      <td>0.50</td>\n",
       "      <td>3349978.53</td>\n",
       "      <td>3711028.0</td>\n",
       "      <td>1757.0</td>\n",
       "      <td>...</td>\n",
       "      <td>2.8737</td>\n",
       "      <td>0.0001</td>\n",
       "      <td>16400000000000</td>\n",
       "      <td>0.12</td>\n",
       "      <td>2.0</td>\n",
       "      <td>1</td>\n",
       "      <td>2.0</td>\n",
       "      <td>2.6512</td>\n",
       "      <td>149.68</td>\n",
       "      <td>0.02</td>\n",
       "    </tr>\n",
       "  </tbody>\n",
       "</table>\n",
       "<p>5 rows × 766 columns</p>\n",
       "</div>"
      ],
      "text/plain": [
       "     id          x001      x002  x003     x004          x005  x006  \\\n",
       "0  5380  6.507826e+10   7882.15  6.82  0.00210  1.712586e+09  0.39   \n",
       "1  5381  3.122741e+09   4682.13  8.17  0.00010  1.040914e+09  0.00   \n",
       "2  5382  3.888719e+10   7495.57  7.15  0.00285  2.160400e+09  0.42   \n",
       "3  5383  7.727427e+10   4003.76  6.53  0.00165  5.519591e+09  0.00   \n",
       "4  5384  4.184868e+09  34874.72  6.39  0.00065  1.046217e+09  0.50   \n",
       "\n",
       "         x007       x008      x009  ...    x756    x757            x758  x759  \\\n",
       "0   583617.74   862986.0   63872.0  ...  0.0380  0.0010     90204869909  0.26   \n",
       "1   190000.65   688710.0   35407.0  ...  0.1866  0.0192     37449565014  0.02   \n",
       "2   351570.67   841523.0  170240.0  ...  0.0100  0.0017     10847937619  0.83   \n",
       "3   320216.05   466131.0      35.0  ...  0.4636  0.0000        37200096  0.51   \n",
       "4  3349978.53  3711028.0    1757.0  ...  2.8737  0.0001  16400000000000  0.12   \n",
       "\n",
       "   x760  x761  x762     x763    x764   x765  \n",
       "0   8.0     5   5.0  30.1213   27.95  -0.49  \n",
       "1  16.0     1   8.0   2.1282   10.18   0.55  \n",
       "2  35.0     1  19.0   7.8513   21.27  19.09  \n",
       "3   1.0     4   0.0   9.0511   18.38   4.11  \n",
       "4   2.0     1   2.0   2.6512  149.68   0.02  \n",
       "\n",
       "[5 rows x 766 columns]"
      ]
     },
     "execution_count": 4,
     "metadata": {},
     "output_type": "execute_result"
    }
   ],
   "source": [
    "test = pd.read_csv('data/test.csv')\n",
    "test.head()"
   ]
  },
  {
   "cell_type": "code",
   "execution_count": 5,
   "id": "b74d4422",
   "metadata": {},
   "outputs": [],
   "source": [
    "train = train.fillna(0)\n",
    "y_train = train['y']\n",
    "X_train = train.drop(['y', 'id'], axis = 1)"
   ]
  },
  {
   "cell_type": "markdown",
   "id": "6bbbacf9",
   "metadata": {},
   "source": [
    "## PCA"
   ]
  },
  {
   "cell_type": "code",
   "execution_count": 6,
   "id": "c5c16d74",
   "metadata": {},
   "outputs": [],
   "source": [
    "scaler = StandardScaler()\n",
    "scaler.fit(X_train)\n",
    "X_train = scaler.transform(X_train)"
   ]
  },
  {
   "cell_type": "code",
   "execution_count": 7,
   "id": "52d596da",
   "metadata": {},
   "outputs": [
    {
     "data": {
      "text/plain": [
       "PCA(n_components=0.95)"
      ]
     },
     "execution_count": 7,
     "metadata": {},
     "output_type": "execute_result"
    }
   ],
   "source": [
    "pca = PCA(0.95)\n",
    "pca.fit(X_train)"
   ]
  },
  {
   "cell_type": "code",
   "execution_count": 8,
   "id": "b2a67a56",
   "metadata": {},
   "outputs": [
    {
     "data": {
      "text/plain": [
       "(5380, 130)"
      ]
     },
     "execution_count": 8,
     "metadata": {},
     "output_type": "execute_result"
    }
   ],
   "source": [
    "X_train = pca.transform(X_train)\n",
    "X_train.shape"
   ]
  },
  {
   "cell_type": "code",
   "execution_count": 9,
   "id": "beb8d4c3",
   "metadata": {},
   "outputs": [],
   "source": [
    "X_test = test\n",
    "col_id = test['id']\n",
    "X_test = test.drop(['id'], axis = 1)\n",
    "X_test = X_test.fillna(0)\n",
    "X_test = scaler.transform(X_test)"
   ]
  },
  {
   "cell_type": "code",
   "execution_count": 10,
   "id": "2dbabdc8",
   "metadata": {},
   "outputs": [
    {
     "data": {
      "text/plain": [
       "(4403, 130)"
      ]
     },
     "execution_count": 10,
     "metadata": {},
     "output_type": "execute_result"
    }
   ],
   "source": [
    "X_test = pca.transform(X_test)\n",
    "X_test.shape"
   ]
  },
  {
   "cell_type": "markdown",
   "id": "92855ded",
   "metadata": {},
   "source": [
    "## AdaBoost"
   ]
  },
  {
   "cell_type": "code",
   "execution_count": 11,
   "id": "ea2fd6a2",
   "metadata": {},
   "outputs": [
    {
     "name": "stdout",
     "output_type": "stream",
     "text": [
      ">2 11.898 (0.743)\n",
      ">3 11.798 (0.497)\n",
      ">4 11.597 (0.550)\n",
      ">5 11.616 (0.394)\n",
      ">6 11.833 (0.272)\n",
      ">7 11.847 (0.393)\n",
      ">8 11.856 (0.317)\n",
      ">9 11.873 (0.278)\n",
      ">10 11.927 (0.347)\n"
     ]
    },
    {
     "data": {
      "text/plain": [
       "Text(0.5, 0, 'Number of trees')"
      ]
     },
     "execution_count": 11,
     "metadata": {},
     "output_type": "execute_result"
    },
    {
     "data": {
      "image/png": "[encoded data removed]",
      "text/plain": [
       "<Figure size 432x288 with 1 Axes>"
      ]
     },
     "metadata": {
      "needs_background": "light"
     },
     "output_type": "display_data"
    }
   ],
   "source": [
    "def get_models():\n",
    "    models = dict()\n",
    "    n_trees = [2, 3, 4, 5, 6, 7, 8, 9, 10]\n",
    "    for n in n_trees:\n",
    "        models[str(n)] = AdaBoostRegressor(n_estimators=n,random_state=1)\n",
    "    return models\n",
    "\n",
    "def evaluate_model(model, X_train, y_train):\n",
    "    cv = KFold(n_splits=5, shuffle=True, random_state=1)\n",
    "    scores = np.sqrt(-cross_val_score(model, X_train, y_train, scoring='neg_mean_squared_error', cv=cv, n_jobs=-1))\n",
    "    return scores\n",
    "\n",
    "models = get_models()\n",
    "results, names = list(), list()\n",
    "for name, model in models.items():\n",
    "    scores = evaluate_model(model, X_train, y_train)\n",
    "    results.append(scores)\n",
    "    names.append(name)\n",
    "    print('>%s %.3f (%.3f)' % (name, np.mean(scores), np.std(scores)))\n",
    "    \n",
    "plt.boxplot(results, labels=names, showmeans=True)\n",
    "plt.ylabel('Cross validation error',fontsize=15)\n",
    "plt.xlabel('Number of trees',fontsize=15)"
   ]
  },
  {
   "cell_type": "code",
   "execution_count": 12,
   "id": "d2d438da",
   "metadata": {},
   "outputs": [
    {
     "name": "stdout",
     "output_type": "stream",
     "text": [
      ">1 12.725 (1.056)\n",
      ">2 13.055 (1.062)\n",
      ">3 13.901 (0.722)\n",
      ">4 12.884 (1.073)\n",
      ">5 11.886 (1.107)\n",
      ">6 11.113 (1.348)\n",
      ">7 10.777 (1.421)\n",
      ">8 10.596 (1.556)\n",
      ">9 10.612 (1.561)\n",
      ">10 10.484 (1.490)\n",
      ">11 10.545 (1.597)\n",
      ">12 10.652 (1.590)\n"
     ]
    },
    {
     "data": {
      "text/plain": [
       "Text(0.5, 0, 'Depth of each tree')"
      ]
     },
     "execution_count": 12,
     "metadata": {},
     "output_type": "execute_result"
    },
    {
     "data": {
      "image/png": "[encoded data removed]",
      "text/plain": [
       "<Figure size 432x288 with 1 Axes>"
      ]
     },
     "metadata": {
      "needs_background": "light"
     },
     "output_type": "display_data"
    }
   ],
   "source": [
    "def get_models():\n",
    "    models = dict()\n",
    "    for i in range(1,13):\n",
    "        base = DecisionTreeRegressor(max_depth=i)\n",
    "        models[str(i)] = AdaBoostRegressor(base_estimator=base,n_estimators=50)\n",
    "    return models\n",
    "\n",
    "def evaluate_model(model, X, y):\n",
    "    cv = KFold(n_splits=10, shuffle=True, random_state=1)\n",
    "    scores = np.sqrt(-cross_val_score(model, X, y, scoring='neg_mean_squared_error', cv=cv, n_jobs=-1))\n",
    "    return scores\n",
    "\n",
    "models = get_models()\n",
    "results, names = list(), list()\n",
    "for name, model in models.items():\n",
    "    scores = evaluate_model(model, X_train, y_train)\n",
    "    results.append(scores)\n",
    "    names.append(name)\n",
    "    print('>%s %.3f (%.3f)' % (name, np.mean(scores), np.std(scores)))\n",
    "    \n",
    "# plot    \n",
    "plt.boxplot(results, labels=names, showmeans=True)\n",
    "plt.ylabel('Cross validation error',fontsize=15)\n",
    "plt.xlabel('Depth of each tree',fontsize=15)"
   ]
  },
  {
   "cell_type": "code",
   "execution_count": 13,
   "id": "10d3bf75",
   "metadata": {},
   "outputs": [
    {
     "name": "stdout",
     "output_type": "stream",
     "text": [
      "Best: -127.620980 using {'base_estimator': DecisionTreeRegressor(max_depth=10), 'n_estimators': 5}\n"
     ]
    }
   ],
   "source": [
    "model = AdaBoostRegressor(random_state=1)\n",
    "grid = dict()\n",
    "grid['n_estimators'] = [4, 5]\n",
    "grid['base_estimator'] = [DecisionTreeRegressor(max_depth=8), DecisionTreeRegressor(max_depth=9), \n",
    "                          DecisionTreeRegressor(max_depth=10), DecisionTreeRegressor(max_depth=11)]\n",
    "\n",
    "cv = KFold(n_splits=5, shuffle=True, random_state=1)\n",
    "grid_search = GridSearchCV(estimator=model, param_grid=grid, n_jobs=-1, cv=cv, scoring='neg_mean_squared_error')\n",
    "grid_result = grid_search.fit(X_train, y_train)\n",
    "print(\"Best: %f using %s\" % (grid_result.best_score_, grid_result.best_params_))\n",
    "means = grid_result.cv_results_['mean_test_score']\n",
    "stds = grid_result.cv_results_['std_test_score']\n",
    "params = grid_result.cv_results_['params']"
   ]
  },
  {
   "cell_type": "code",
   "execution_count": 14,
   "id": "2c826004",
   "metadata": {},
   "outputs": [],
   "source": [
    "model_ADA = AdaBoostRegressor(base_estimator=DecisionTreeRegressor(max_depth=10), n_estimators=5,\n",
    "                              random_state=1).fit(X_train, y_train)"
   ]
  },
  {
   "cell_type": "markdown",
   "id": "010fa453",
   "metadata": {},
   "source": [
    "## RF"
   ]
  },
  {
   "cell_type": "code",
   "execution_count": 15,
   "id": "71754a42",
   "metadata": {},
   "outputs": [
    {
     "data": {
      "text/plain": [
       "<matplotlib.legend.Legend at 0x2cbde85d2e0>"
      ]
     },
     "execution_count": 15,
     "metadata": {},
     "output_type": "execute_result"
    },
    {
     "data": {
      "image/png": "[encoded data removed]",
      "text/plain": [
       "<Figure size 640x480 with 1 Axes>"
      ]
     },
     "metadata": {
      "needs_background": "light"
     },
     "output_type": "display_data"
    }
   ],
   "source": [
    "oob_rsquared={};test_rsquared={};oob_rmse={};test_rmse = {}\n",
    "for i in np.linspace(10, 210, 20,dtype=int):\n",
    "    model = RandomForestRegressor(n_estimators=i, random_state=1,max_features=\"sqrt\",\n",
    "                        n_jobs=-1,oob_score=True).fit(X_train, y_train)\n",
    "    oob_rsquared[i]=model.oob_score_  \n",
    "    oob_rmse[i]=np.sqrt(mean_squared_error(model.oob_prediction_,y_train))\n",
    "    \n",
    "plt.rcParams.update({'font.size': 15})\n",
    "plt.figure(figsize=(8, 6), dpi=80)\n",
    "plt.plot(oob_rmse.keys(),oob_rmse.values(),label = 'Out of bag RMSE')\n",
    "plt.plot(oob_rmse.keys(),oob_rmse.values(),'o',color = 'blue')\n",
    "plt.xlabel('Number of trees')\n",
    "plt.ylabel('RMSE')\n",
    "plt.legend()"
   ]
  },
  {
   "cell_type": "code",
   "execution_count": 22,
   "id": "f1a161b2",
   "metadata": {},
   "outputs": [
    {
     "data": {
      "text/plain": [
       "Text(0, 0.5, 'Classification accuracy')"
      ]
     },
     "execution_count": 22,
     "metadata": {},
     "output_type": "execute_result"
    },
    {
     "data": {
      "image/png": "[encoded data removed]",
      "text/plain": [
       "<Figure size 432x288 with 1 Axes>"
      ]
     },
     "metadata": {
      "needs_background": "light"
     },
     "output_type": "display_data"
    }
   ],
   "source": [
    "oob_score = {}\n",
    "\n",
    "i=0\n",
    "for pr in range(1, 16):\n",
    "    model = RandomForestRegressor(random_state=1, oob_score=True, verbose=False, n_estimators = 500,\n",
    "                                  max_features=pr, n_jobs=-1).fit(X_train, y_train)\n",
    "    oob_score[i] = model.oob_score_\n",
    "    i=i+1\n",
    "    \n",
    "sns.scatterplot(x = oob_score.keys(), y = oob_score.values())\n",
    "plt.xlabel('Max features')\n",
    "plt.ylabel('Classification accuracy')"
   ]
  },
  {
   "cell_type": "code",
   "execution_count": 23,
   "id": "fa879eee",
   "metadata": {},
   "outputs": [
    {
     "name": "stdout",
     "output_type": "stream",
     "text": [
      "Best params =  (21, 10)\n",
      "Best score (R-squared) =  0.06870088609799962\n"
     ]
    }
   ],
   "source": [
    "params = {'n_estimators': [18, 19, 20, 21],\n",
    "          'max_features': [8, 9, 10]}\n",
    "param_list=list(it.product(*(params[Name] for Name in params)))\n",
    "oob_score = [0]*len(param_list)\n",
    "i=0\n",
    "for pr in param_list:\n",
    "    model = RandomForestRegressor(random_state=1,oob_score=True,verbose=False,n_estimators = pr[0],\n",
    "                                 max_features=pr[1],n_jobs=-1).fit(X_train, y_train)\n",
    "    oob_score[i] = model.oob_score_\n",
    "    i=i+1\n",
    "    \n",
    "print(\"Best params = \", param_list[np.argmax(oob_score)])\n",
    "print(\"Best score (R-squared) = \", np.max(oob_score))"
   ]
  },
  {
   "cell_type": "code",
   "execution_count": 24,
   "id": "20bb0fb3",
   "metadata": {},
   "outputs": [],
   "source": [
    "model_RF = RandomForestRegressor(n_estimators=21, max_features=10, random_state=1, n_jobs=-1).fit(X_train, y_train)"
   ]
  },
  {
   "cell_type": "markdown",
   "id": "8e408234",
   "metadata": {},
   "source": [
    "## XGBoost"
   ]
  },
  {
   "cell_type": "code",
   "execution_count": 27,
   "id": "015b14a0",
   "metadata": {},
   "outputs": [
    {
     "name": "stdout",
     "output_type": "stream",
     "text": [
      ">3 11.544 (0.786)\n",
      ">4 11.280 (0.733)\n",
      ">5 11.063 (0.731)\n",
      ">6 10.984 (0.690)\n",
      ">7 10.914 (0.665)\n",
      ">8 10.890 (0.646)\n",
      ">9 10.869 (0.633)\n",
      ">10 10.880 (0.630)\n",
      ">11 10.869 (0.615)\n"
     ]
    },
    {
     "data": {
      "text/plain": [
       "Text(0.5, 0, 'Number of trees')"
      ]
     },
     "execution_count": 27,
     "metadata": {},
     "output_type": "execute_result"
    },
    {
     "data": {
      "image/png": "[encoded data removed]",
      "text/plain": [
       "<Figure size 432x288 with 1 Axes>"
      ]
     },
     "metadata": {
      "needs_background": "light"
     },
     "output_type": "display_data"
    }
   ],
   "source": [
    "def get_models():\n",
    "    models = dict()\n",
    "    n_trees = [3, 4, 5, 6, 7, 8, 9, 10, 11]\n",
    "    for n in n_trees:\n",
    "        models[str(n)] = xgb.XGBRegressor(n_estimators=n,random_state=1)\n",
    "    return models\n",
    "\n",
    "def evaluate_model(model, X, y):\n",
    "    cv = KFold(n_splits=5, shuffle=True, random_state=1)\n",
    "    scores = np.sqrt(-cross_val_score(model, X, y, scoring='neg_mean_squared_error', cv=cv, n_jobs=-1))\n",
    "    return scores\n",
    "\n",
    "models = get_models()\n",
    "results, names = list(), list()\n",
    "for name, model in models.items():\n",
    "    scores = evaluate_model(model, X_train, y_train)\n",
    "    results.append(scores)\n",
    "    names.append(name)\n",
    "    print('>%s %.3f (%.3f)' % (name, np.mean(scores), np.std(scores)))\n",
    "\n",
    "plt.boxplot(results, labels=names, showmeans=True)\n",
    "plt.ylabel('Cross validation error',fontsize=15)\n",
    "plt.xlabel('Number of trees',fontsize=15)"
   ]
  },
  {
   "cell_type": "code",
   "execution_count": 28,
   "id": "fca0df48",
   "metadata": {},
   "outputs": [
    {
     "name": "stdout",
     "output_type": "stream",
     "text": [
      ">1 10.334 (1.403)\n",
      ">3 10.491 (1.258)\n",
      ">5 10.870 (1.192)\n",
      ">7 10.875 (1.277)\n",
      ">9 10.842 (1.163)\n",
      ">11 10.937 (1.378)\n",
      ">13 11.070 (1.395)\n",
      ">15 11.217 (1.444)\n",
      ">17 11.333 (1.300)\n",
      ">19 11.377 (1.236)\n"
     ]
    },
    {
     "data": {
      "text/plain": [
       "Text(0.5, 0, 'Depth of each tree')"
      ]
     },
     "execution_count": 28,
     "metadata": {},
     "output_type": "execute_result"
    },
    {
     "data": {
      "image/png": "[encoded data removed]",
      "text/plain": [
       "<Figure size 432x288 with 1 Axes>"
      ]
     },
     "metadata": {
      "needs_background": "light"
     },
     "output_type": "display_data"
    }
   ],
   "source": [
    "def get_models():\n",
    "    models = dict()\n",
    "    for i in range(1,15,2):\n",
    "        models[str(i)] = xgb.XGBRegressor(random_state=1,max_depth=i)\n",
    "    return models\n",
    "\n",
    "def evaluate_model(model, X, y):\n",
    "    cv = KFold(n_splits=10, shuffle=True, random_state=1)\n",
    "    scores = np.sqrt(-cross_val_score(model, X, y, scoring='neg_mean_squared_error', cv=cv, n_jobs=-1))\n",
    "    return scores\n",
    "\n",
    "models = get_models()\n",
    "results, names = list(), list()\n",
    "for name, model in models.items():\n",
    "    scores = evaluate_model(model, X_train, y_train)\n",
    "    results.append(scores)\n",
    "    names.append(name)\n",
    "    print('>%s %.3f (%.3f)' % (name, np.mean(scores), np.std(scores)))\n",
    "    \n",
    "plt.boxplot(results, labels=names, showmeans=True)\n",
    "plt.ylabel('Cross validation error',fontsize=15)\n",
    "plt.xlabel('Depth of each tree',fontsize=15)"
   ]
  },
  {
   "cell_type": "code",
   "execution_count": 29,
   "id": "b0f50cd3",
   "metadata": {},
   "outputs": [
    {
     "name": "stdout",
     "output_type": "stream",
     "text": [
      ">0.0100 11.2 (1.6)\n",
      ">0.0150 10.8 (1.5)\n",
      ">0.0200 10.6 (1.5)\n",
      ">0.0250 10.5 (1.4)\n",
      ">0.0300 10.4 (1.3)\n",
      ">0.0350 10.3 (1.3)\n",
      ">0.0400 10.3 (1.3)\n"
     ]
    },
    {
     "data": {
      "text/plain": [
       "Text(0.5, 0, 'Learning rate')"
      ]
     },
     "execution_count": 29,
     "metadata": {},
     "output_type": "execute_result"
    },
    {
     "data": {
      "image/png": "[encoded data removed]",
      "text/plain": [
       "<Figure size 504x504 with 1 Axes>"
      ]
     },
     "metadata": {
      "needs_background": "light"
     },
     "output_type": "display_data"
    }
   ],
   "source": [
    "def get_models():\n",
    "    models = dict()\n",
    "    for i in [0.010, 0.015, 0.020, 0.025, 0.030, 0.035, 0.040]:\n",
    "        key = '%.4f' % i\n",
    "        models[key] = xgb.XGBRegressor(learning_rate=i,random_state=1)\n",
    "    return models\n",
    "\n",
    "def evaluate_model(model, X, y):\n",
    "    cv = KFold(n_splits=10, shuffle=True, random_state=1)\n",
    "    scores = np.sqrt(-cross_val_score(model, X, y, scoring='neg_mean_squared_error', cv=cv, n_jobs=-1))\n",
    "    return scores\n",
    "\n",
    "models = get_models()\n",
    "results, names = list(), list()\n",
    "for name, model in models.items():\n",
    "    scores = evaluate_model(model, X_train, y_train)\n",
    "    results.append(scores)\n",
    "    names.append(name)\n",
    "    print('>%s %.1f (%.1f)' % (name, np.mean(scores), np.std(scores)))\n",
    "    \n",
    "plt.figure(figsize=(7, 7))\n",
    "plt.boxplot(results, labels=names, showmeans=True)\n",
    "plt.ylabel('Cross validation error',fontsize=15)\n",
    "plt.xlabel('Learning rate',fontsize=15)"
   ]
  },
  {
   "cell_type": "code",
   "execution_count": 30,
   "id": "345dc384",
   "metadata": {},
   "outputs": [
    {
     "name": "stdout",
     "output_type": "stream",
     "text": [
      ">0.0100 11.2 (1.1)\n",
      ">0.1000 11.1 (1.2)\n",
      ">0.2500 10.9 (1.2)\n",
      ">0.5000 10.9 (1.3)\n",
      ">1.0000 10.9 (1.3)\n"
     ]
    },
    {
     "data": {
      "text/plain": [
       "Text(0.5, 0, 'reg_lambda')"
      ]
     },
     "execution_count": 30,
     "metadata": {},
     "output_type": "execute_result"
    },
    {
     "data": {
      "image/png": "[encoded data removed]",
      "text/plain": [
       "<Figure size 504x504 with 1 Axes>"
      ]
     },
     "metadata": {
      "needs_background": "light"
     },
     "output_type": "display_data"
    }
   ],
   "source": [
    "def get_models():\n",
    "    models = dict()\n",
    "    for i in [0.01, 0.1, 0.25, 0.5, 1]:\n",
    "        key = '%.4f' % i\n",
    "        models[key] = xgb.XGBRegressor(reg_lambda=i,random_state=1)\n",
    "    return models\n",
    "\n",
    "def evaluate_model(model, X, y):\n",
    "    cv = KFold(n_splits=10, shuffle=True, random_state=1)\n",
    "    scores = np.sqrt(-cross_val_score(model, X, y, scoring='neg_mean_squared_error', cv=cv, n_jobs=-1))\n",
    "    return scores\n",
    "\n",
    "models = get_models()\n",
    "results, names = list(), list()\n",
    "for name, model in models.items():\n",
    "    scores = evaluate_model(model, X_train, y_train)\n",
    "    results.append(scores)\n",
    "    names.append(name)\n",
    "    print('>%s %.1f (%.1f)' % (name, np.mean(scores), np.std(scores)))\n",
    "\n",
    "plt.figure(figsize=(7, 7))\n",
    "plt.boxplot(results, labels=names, showmeans=True)\n",
    "plt.ylabel('Cross validation error',fontsize=15)\n",
    "plt.xlabel('reg_lambda',fontsize=15)"
   ]
  },
  {
   "cell_type": "code",
   "execution_count": 31,
   "id": "de49b387",
   "metadata": {},
   "outputs": [
    {
     "name": "stdout",
     "output_type": "stream",
     "text": [
      "Fitting 5 folds for each of 108 candidates, totalling 540 fits\n",
      "Optimal parameter values = {'learning_rate': 0.25, 'max_depth': 4, 'n_estimators': 8, 'reg_lambda': 0.25}\n",
      "Optimal cross validation R-squared =  0.1869266130161954\n"
     ]
    }
   ],
   "source": [
    "param_grid = {'n_estimators':[6, 7, 8],\n",
    "              'max_depth': [2, 3, 4, 5],\n",
    "              'learning_rate': [0.15, 0.20, 0.25],\n",
    "              'reg_lambda':[0.25, 0.30, 0.35]}\n",
    "\n",
    "cv = KFold(n_splits=5,shuffle=True,random_state=1)\n",
    "optimal_params = GridSearchCV(estimator=xgb.XGBRegressor(random_state=1),                                                       \n",
    "                             param_grid = param_grid,                             \n",
    "                             verbose = 1,\n",
    "                             n_jobs=-1,\n",
    "                             cv = cv)\n",
    "optimal_params.fit(X_train , y_train)\n",
    "print(\"Optimal parameter values =\", optimal_params.best_params_)\n",
    "print(\"Optimal cross validation R-squared = \",optimal_params.best_score_)"
   ]
  },
  {
   "cell_type": "code",
   "execution_count": 32,
   "id": "1fc18e4f",
   "metadata": {},
   "outputs": [],
   "source": [
    "model_XG = xgb.XGBRegressor(random_state=1, max_depth=4, n_estimators=8, learning_rate = 0.25, reg_lambda=0.25).fit(X_train, y_train)"
   ]
  },
  {
   "cell_type": "markdown",
   "id": "2d2162bb",
   "metadata": {},
   "source": [
    "## Ensemble"
   ]
  },
  {
   "cell_type": "code",
   "execution_count": 33,
   "id": "591d61dc",
   "metadata": {},
   "outputs": [
    {
     "data": {
      "text/plain": [
       "StackingRegressor(cv=KFold(n_splits=5, random_state=1, shuffle=True),\n",
       "                  estimators=[('ADA',\n",
       "                               AdaBoostRegressor(base_estimator=DecisionTreeRegressor(max_depth=10),\n",
       "                                                 n_estimators=5,\n",
       "                                                 random_state=1)),\n",
       "                              ('RF',\n",
       "                               RandomForestRegressor(max_features=10,\n",
       "                                                     n_estimators=21, n_jobs=-1,\n",
       "                                                     random_state=1)),\n",
       "                              ('XG',\n",
       "                               XGBRegressor(base_score=0.5, booster='gbtree',\n",
       "                                            callbacks=None, colsample_...\n",
       "                                            gpu_id=-1, grow_policy='depthwise',\n",
       "                                            importance_type=None,\n",
       "                                            interaction_constraints='',\n",
       "                                            learning_rate=0.25, max_bin=256,\n",
       "                                            max_cat_to_onehot=4,\n",
       "                                            max_delta_step=0, max_depth=4,\n",
       "                                            max_leaves=0, min_child_weight=1,\n",
       "                                            missing=nan,\n",
       "                                            monotone_constraints='()',\n",
       "                                            n_estimators=8, n_jobs=0,\n",
       "                                            num_parallel_tree=1,\n",
       "                                            predictor='auto', random_state=1,\n",
       "                                            reg_alpha=0, reg_lambda=0.25, ...))],\n",
       "                  final_estimator=LassoCV())"
      ]
     },
     "execution_count": 33,
     "metadata": {},
     "output_type": "execute_result"
    }
   ],
   "source": [
    "model_ensemble= StackingRegressor(estimators = [('ADA', model_ADA),\n",
    "                                                ('RF', model_RF),\n",
    "                                                ('XG', model_XG)],\n",
    "                      final_estimator = LassoCV(),\n",
    "                      cv = KFold(n_splits = 5, shuffle = True, random_state=1))\n",
    "model_ensemble.fit(X_train, y_train)"
   ]
  },
  {
   "cell_type": "code",
   "execution_count": 34,
   "id": "8b73ee58",
   "metadata": {},
   "outputs": [
    {
     "data": {
      "text/plain": [
       "array([0.2490349 , 0.31684669, 0.6596121 ])"
      ]
     },
     "execution_count": 34,
     "metadata": {},
     "output_type": "execute_result"
    }
   ],
   "source": [
    "model_ensemble.final_estimator_.coef_"
   ]
  },
  {
   "cell_type": "code",
   "execution_count": 36,
   "id": "14f8577a",
   "metadata": {},
   "outputs": [
    {
     "data": {
      "text/html": [
       "<div>\n",
       "<style scoped>\n",
       "    .dataframe tbody tr th:only-of-type {\n",
       "        vertical-align: middle;\n",
       "    }\n",
       "\n",
       "    .dataframe tbody tr th {\n",
       "        vertical-align: top;\n",
       "    }\n",
       "\n",
       "    .dataframe thead th {\n",
       "        text-align: right;\n",
       "    }\n",
       "</style>\n",
       "<table border=\"1\" class=\"dataframe\">\n",
       "  <thead>\n",
       "    <tr style=\"text-align: right;\">\n",
       "      <th></th>\n",
       "      <th>id</th>\n",
       "      <th>y</th>\n",
       "    </tr>\n",
       "  </thead>\n",
       "  <tbody>\n",
       "    <tr>\n",
       "      <th>0</th>\n",
       "      <td>5380</td>\n",
       "      <td>5.474544</td>\n",
       "    </tr>\n",
       "    <tr>\n",
       "      <th>1</th>\n",
       "      <td>5381</td>\n",
       "      <td>11.257620</td>\n",
       "    </tr>\n",
       "    <tr>\n",
       "      <th>2</th>\n",
       "      <td>5382</td>\n",
       "      <td>5.801390</td>\n",
       "    </tr>\n",
       "    <tr>\n",
       "      <th>3</th>\n",
       "      <td>5383</td>\n",
       "      <td>6.978255</td>\n",
       "    </tr>\n",
       "    <tr>\n",
       "      <th>4</th>\n",
       "      <td>5384</td>\n",
       "      <td>50.461490</td>\n",
       "    </tr>\n",
       "    <tr>\n",
       "      <th>...</th>\n",
       "      <td>...</td>\n",
       "      <td>...</td>\n",
       "    </tr>\n",
       "    <tr>\n",
       "      <th>4398</th>\n",
       "      <td>9778</td>\n",
       "      <td>3.839546</td>\n",
       "    </tr>\n",
       "    <tr>\n",
       "      <th>4399</th>\n",
       "      <td>9779</td>\n",
       "      <td>7.318350</td>\n",
       "    </tr>\n",
       "    <tr>\n",
       "      <th>4400</th>\n",
       "      <td>9780</td>\n",
       "      <td>8.052005</td>\n",
       "    </tr>\n",
       "    <tr>\n",
       "      <th>4401</th>\n",
       "      <td>9781</td>\n",
       "      <td>11.829635</td>\n",
       "    </tr>\n",
       "    <tr>\n",
       "      <th>4402</th>\n",
       "      <td>9782</td>\n",
       "      <td>11.993998</td>\n",
       "    </tr>\n",
       "  </tbody>\n",
       "</table>\n",
       "<p>4403 rows × 2 columns</p>\n",
       "</div>"
      ],
      "text/plain": [
       "        id          y\n",
       "0     5380   5.474544\n",
       "1     5381  11.257620\n",
       "2     5382   5.801390\n",
       "3     5383   6.978255\n",
       "4     5384  50.461490\n",
       "...    ...        ...\n",
       "4398  9778   3.839546\n",
       "4399  9779   7.318350\n",
       "4400  9780   8.052005\n",
       "4401  9781  11.829635\n",
       "4402  9782  11.993998\n",
       "\n",
       "[4403 rows x 2 columns]"
      ]
     },
     "execution_count": 36,
     "metadata": {},
     "output_type": "execute_result"
    }
   ],
   "source": [
    "pred7 = model_ensemble.predict(X_test)\n",
    "\n",
    "pred_v7 = pd.DataFrame(index=range(X_test.shape[0]), columns=range(2))\n",
    "pred_v7.columns = ['id', 'y']\n",
    "pred_v7['id'] = col_id\n",
    "pred_v7['y'] = pred7\n",
    "pred_v7"
   ]
  },
  {
   "cell_type": "code",
   "execution_count": 37,
   "id": "e331fc12",
   "metadata": {},
   "outputs": [],
   "source": [
    "pred_v7.to_csv('pred_v7.csv', index=True)"
   ]
  },
  {
   "cell_type": "code",
   "execution_count": null,
   "id": "aea86b2f",
   "metadata": {},
   "outputs": [],
   "source": []
  }
 ],
 "metadata": {
  "kernelspec": {
   "display_name": "Python 3",
   "language": "python",
   "name": "python3"
  },
  "language_info": {
   "codemirror_mode": {
    "name": "ipython",
    "version": 3
   },
   "file_extension": ".py",
   "mimetype": "text/x-python",
   "name": "python",
   "nbconvert_exporter": "python",
   "pygments_lexer": "ipython3",
   "version": "3.8.8"
  }
 },
 "nbformat": 4,
 "nbformat_minor": 5
}
